{
 "cells": [
  {
   "cell_type": "markdown",
   "metadata": {},
   "source": [
    "# Courses Demo\n",
    "This Jupyter notebook is for exploring the data set courses20-21.json\n",
    "which consists of all Brandeis courses in the 20-21 academic year (Fall20, Spr21, Sum21) \n",
    "which had at least 1 student enrolled.\n",
    "\n",
    "First we need to read the json file into a list of Python dictionaries"
   ]
  },
  {
   "cell_type": "code",
<<<<<<< HEAD
<<<<<<< HEAD
   "execution_count": 43,
=======
   "execution_count": null,
>>>>>>> c60e91a289b07dc5d6da5e5ffdb35f8051894bf5
=======
   "execution_count": 2,
>>>>>>> parent of d01c673 (added comment for aarthi part 7e code)
   "metadata": {},
   "outputs": [],
   "source": [
    "import json"
   ]
  },
  {
   "cell_type": "code",
<<<<<<< HEAD
<<<<<<< HEAD
   "execution_count": 44,
=======
   "execution_count": null,
>>>>>>> c60e91a289b07dc5d6da5e5ffdb35f8051894bf5
=======
   "execution_count": 3,
>>>>>>> parent of d01c673 (added comment for aarthi part 7e code)
   "metadata": {},
   "outputs": [],
   "source": [
    "with open(\"courses20-21.json\",\"r\",encoding='utf-8') as jsonfile:\n",
    "    courses = json.load(jsonfile)"
   ]
  },
  {
   "cell_type": "markdown",
   "metadata": {},
   "source": [
    "## Structure of a course\n",
    "Next we look at the fields of each course dictionary and their values"
   ]
  },
  {
   "cell_type": "code",
<<<<<<< HEAD
<<<<<<< HEAD
   "execution_count": 45,
=======
   "execution_count": 4,
>>>>>>> parent of d01c673 (added comment for aarthi part 7e code)
   "metadata": {},
   "outputs": [
    {
     "name": "stdout",
     "output_type": "stream",
     "text": [
      "there are 7813 courses in the dataset\n",
      "here is the data for course 1246\n"
     ]
    },
    {
     "data": {
      "text/plain": [
       "{'limit': 28,\n",
       " 'times': [{'start': 1080, 'end': 1170, 'days': ['w', 'm']}],\n",
       " 'enrolled': 4,\n",
       " 'details': 'Instruction for this course will be offered remotely. Meeting times for this course are listed in the schedule of classes (in ET).',\n",
       " 'type': 'section',\n",
       " 'status_text': 'Open',\n",
       " 'section': '1',\n",
       " 'waiting': 0,\n",
       " 'instructor': ['An', 'Huang', 'anhuang@brandeis.edu'],\n",
       " 'coinstructors': [],\n",
       " 'code': ['MATH', '223A'],\n",
       " 'subject': 'MATH',\n",
       " 'coursenum': '223A',\n",
       " 'name': 'Lie Algebras: Representation Theory',\n",
       " 'independent_study': False,\n",
       " 'term': '1203',\n",
       " 'description': \"Theorems of Engel and Lie. Semisimple Lie algebras, Cartan's criterion. Universal enveloping algebras, PBW theorem, Serre's construction. Representation theory. Other topics as time permits. Usually offered every second year.\\nAn Huang\"}"
      ]
     },
     "execution_count": 4,
     "metadata": {},
     "output_type": "execute_result"
    }
   ],
=======
   "execution_count": null,
   "metadata": {},
   "outputs": [],
>>>>>>> c60e91a289b07dc5d6da5e5ffdb35f8051894bf5
   "source": [
    "print('there are',len(courses),'courses in the dataset')\n",
    "print('here is the data for course 1246')\n",
    "courses[1246]"
   ]
  },
  {
   "cell_type": "markdown",
   "metadata": {},
   "source": [
    "## Cleaning the data\n",
    "If we want to sort courses by instructor or by code, we need to replace the lists with tuples (which are immutable lists)"
   ]
  },
  {
   "cell_type": "code",
<<<<<<< HEAD
<<<<<<< HEAD
   "execution_count": 46,
=======
   "execution_count": null,
>>>>>>> c60e91a289b07dc5d6da5e5ffdb35f8051894bf5
=======
   "execution_count": 5,
>>>>>>> parent of d01c673 (added comment for aarthi part 7e code)
   "metadata": {},
   "outputs": [],
   "source": [
    "for course in courses:\n",
    "        course['instructor'] = tuple(course['instructor'])\n",
    "        course['coinstructors'] = tuple([tuple(f) for f in course['coinstructors']])\n",
    "        course['code']= tuple(course['code'])"
   ]
  },
  {
   "cell_type": "code",
<<<<<<< HEAD
<<<<<<< HEAD
   "execution_count": 47,
=======
   "execution_count": 6,
>>>>>>> parent of d01c673 (added comment for aarthi part 7e code)
   "metadata": {},
   "outputs": [
    {
     "name": "stdout",
     "output_type": "stream",
     "text": [
      "notice that the instructor and code are tuples now\n"
     ]
    },
    {
     "data": {
      "text/plain": [
       "{'limit': 28,\n",
       " 'times': [{'start': 1080, 'end': 1170, 'days': ['w', 'm']}],\n",
       " 'enrolled': 4,\n",
       " 'details': 'Instruction for this course will be offered remotely. Meeting times for this course are listed in the schedule of classes (in ET).',\n",
       " 'type': 'section',\n",
       " 'status_text': 'Open',\n",
       " 'section': '1',\n",
       " 'waiting': 0,\n",
       " 'instructor': ('An', 'Huang', 'anhuang@brandeis.edu'),\n",
       " 'coinstructors': (),\n",
       " 'code': ('MATH', '223A'),\n",
       " 'subject': 'MATH',\n",
       " 'coursenum': '223A',\n",
       " 'name': 'Lie Algebras: Representation Theory',\n",
       " 'independent_study': False,\n",
       " 'term': '1203',\n",
       " 'description': \"Theorems of Engel and Lie. Semisimple Lie algebras, Cartan's criterion. Universal enveloping algebras, PBW theorem, Serre's construction. Representation theory. Other topics as time permits. Usually offered every second year.\\nAn Huang\"}"
      ]
     },
     "execution_count": 6,
     "metadata": {},
     "output_type": "execute_result"
    }
   ],
=======
   "execution_count": null,
   "metadata": {},
   "outputs": [],
>>>>>>> c60e91a289b07dc5d6da5e5ffdb35f8051894bf5
   "source": [
    "print('notice that the instructor and code are tuples now')\n",
    "courses[1246]\n"
   ]
  },
  {
   "cell_type": "markdown",
   "metadata": {},
   "source": [
    "# Exploring the data set\n",
    "Now we will show how to use straight python to explore the data set and answer some interesting questions. Next week we will start learning Pandas/Numpy which are packages that make it easier to explore large dataset efficiently.\n",
    "\n",
    "Here are some questions we can try to asnwer:\n",
    "* what are all of the subjects of courses (e.g. COSI, MATH, JAPN, PHIL, ...)\n",
    "* which terms are represented?\n",
    "* how many instructors taught at Brandeis last year?\n",
    "* what were the five largest course sections?\n",
    "* what were the five largest courses (where we combine sections)?\n",
    "* which are the five largest subjects measured by number of courses offered?\n",
    "* which are the five largest courses measured by number of students taught?\n",
    "* which course had the most sections taught in 20-21?\n",
    "* who are the top five faculty in terms of number of students taught?\n",
    "* etc."
   ]
  },
  {
   "cell_type": "code",
<<<<<<< HEAD
<<<<<<< HEAD
   "execution_count": 48,
=======
   "execution_count": null,
>>>>>>> c60e91a289b07dc5d6da5e5ffdb35f8051894bf5
=======
   "execution_count": 7,
>>>>>>> parent of d01c673 (added comment for aarthi part 7e code)
   "metadata": {},
   "outputs": [],
   "source": [
    "subjects = []\n",
    "[subjects.append(course['subject']) for course in courses if course.get('subject') not in subjects]\n",
    "print(subjects)"
   ]
  },
  {
   "cell_type": "code",
<<<<<<< HEAD
<<<<<<< HEAD
   "execution_count": 49,
=======
   "execution_count": null,
>>>>>>> c60e91a289b07dc5d6da5e5ffdb35f8051894bf5
=======
   "execution_count": 8,
>>>>>>> parent of d01c673 (added comment for aarthi part 7e code)
   "metadata": {},
   "outputs": [],
   "source": [
    "terms = []\n",
    "[terms.append(course['term']) for course in courses if course.get('term') not in terms]\n",
    "print(terms)"
   ]
  },
  {
   "cell_type": "code",
<<<<<<< HEAD
<<<<<<< HEAD
   "execution_count": 50,
=======
   "execution_count": null,
>>>>>>> c60e91a289b07dc5d6da5e5ffdb35f8051894bf5
=======
   "execution_count": 9,
>>>>>>> parent of d01c673 (added comment for aarthi part 7e code)
   "metadata": {},
   "outputs": [],
   "source": [
    "instructors = []\n",
    "[instructors.append(course['instructor']) for course in courses if course.get('instructor') not in instructors]\n",
    "print(instructors)"
   ]
  },
  {
   "cell_type": "code",
<<<<<<< HEAD
<<<<<<< HEAD
   "execution_count": 51,
=======
   "execution_count": null,
>>>>>>> c60e91a289b07dc5d6da5e5ffdb35f8051894bf5
=======
   "execution_count": 10,
>>>>>>> parent of d01c673 (added comment for aarthi part 7e code)
   "metadata": {},
   "outputs": [],
   "source": [
    "# Elizabeth 5i\n",
    "consent = []\n",
    "[consent.append(course['name']) for course in courses if 'Consent' in course['status_text']]\n",
    "print(consent[:10])"
   ]
  },
  {
   "cell_type": "code",
<<<<<<< HEAD
<<<<<<< HEAD
   "execution_count": 52,
=======
   "execution_count": null,
>>>>>>> c60e91a289b07dc5d6da5e5ffdb35f8051894bf5
=======
   "execution_count": 11,
>>>>>>> parent of d01c673 (added comment for aarthi part 7e code)
   "metadata": {},
   "outputs": [],
   "source": [
    "# Elizabeth 5i\n",
    "noconsent = []\n",
    "[noconsent.append(course['name']) for course in courses if 'Consent' not in course['status_text']]\n",
    "print(noconsent[:10])"
   ]
  },
  {
   "cell_type": "code",
<<<<<<< HEAD
<<<<<<< HEAD
   "execution_count": 53,
=======
   "execution_count": null,
>>>>>>> c60e91a289b07dc5d6da5e5ffdb35f8051894bf5
=======
   "execution_count": 12,
>>>>>>> parent of d01c673 (added comment for aarthi part 7e code)
   "metadata": {},
   "outputs": [],
   "source": [
    "#Leora 5i - Total Number of students taking Math Courses total and in 2020\n",
    "a =set(course[('instructor')] for course in courses if \"MATH\" in course['subject'])\n",
    "b =tuple(course for course in courses if \"MATH\" in course['subject'])\n",
    "c = set(course['instructor'] for course in b if '20' in course['coursenum'])\n",
    "len(a)\n",
    "print(\"There are: \"+ str(len(a))+\" Math Teachers in total\")\n",
    "print(\"There are: \"+ str(len(c))+\" Math Teachers teaching in 2020\")\n"
   ]
  },
  {
   "cell_type": "code",
<<<<<<< HEAD
<<<<<<< HEAD
   "execution_count": 54,
=======
   "execution_count": null,
>>>>>>> c60e91a289b07dc5d6da5e5ffdb35f8051894bf5
=======
   "execution_count": 13,
>>>>>>> parent of d01c673 (added comment for aarthi part 7e code)
   "metadata": {},
   "outputs": [],
   "source": [
    "#Aarthi 5c\n",
    "import statistics\n",
    "def medianSize():\n",
    "    coursesize =[]\n",
    "\n",
    "    for course in courses:\n",
    "       coursesize.append(course['enrolled'])\n",
    "       coursesize.sort()\n",
    "    print((statistics.median(coursesize)))\n",
    "    \n",
    "medianSize()    "
   ]
  },
  {
   "cell_type": "code",
<<<<<<< HEAD
<<<<<<< HEAD
   "execution_count": 55,
=======
   "execution_count": null,
>>>>>>> c60e91a289b07dc5d6da5e5ffdb35f8051894bf5
=======
   "execution_count": 14,
>>>>>>> parent of d01c673 (added comment for aarthi part 7e code)
   "metadata": {},
   "outputs": [],
   "source": [
    "#Aarthi 5d\n",
    "def sortedTuples():\n",
    "    subjectList = []\n",
    "    numCoursesList = []\n",
    "  \n",
    "   \n",
    "   #for course in courses:\n",
    "    gather = dict()\n",
    "    for course in courses:\n",
    "        if course['subject'] in gather:\n",
    "            num = gather[course['subject']]\n",
    "            gather[course['subject']] = num+course['enrolled']\n",
    "        else:\n",
    "            gather[course['subject']] = course['enrolled']\n",
    "    subjects = list(gather)\n",
    "    courseNum =[]\n",
    "    for subject in gather:\n",
    "        courseNum.append(gather[subject])\n",
    "    subjectData = sorted((list(zip(subjects, courseNum))), key=lambda x:x[1])[-11:-1]\n",
    "    print(list(reversed(subjectData)))\n",
    "           \n",
    "sortedTuples()"
   ]
  },
  {
   "cell_type": "code",
<<<<<<< HEAD
<<<<<<< HEAD
   "execution_count": 56,
=======
   "execution_count": null,
>>>>>>> c60e91a289b07dc5d6da5e5ffdb35f8051894bf5
=======
   "execution_count": 15,
>>>>>>> parent of d01c673 (added comment for aarthi part 7e code)
   "metadata": {},
   "outputs": [],
   "source": [
    "#Aarthi 5e\n",
    "#Leora helped figure this out. This was a team effort\n",
    "def sortedTuples():\n",
    "    subjectList = []\n",
    "    numCoursesList = []\n",
    "  \n",
    "   \n",
    "   #for course in courses:\n",
    "    gather = dict()\n",
    "    for course in courses:\n",
    "        if course['subject'] in gather:\n",
    "            num = gather[course['subject']]\n",
    "            gather[course['subject']] = num+1\n",
    "        else:\n",
    "            gather[course['subject']] =1\n",
    "    subjects = list(gather)\n",
    "    courseNum =[]\n",
    "    for subject in gather:\n",
    "        courseNum.append(gather[subject])\n",
    "    subjectData = sorted((list(zip(subjects, courseNum))), key=lambda x:x[1])[-11:-1]\n",
    "    print(list(reversed(subjectData)))\n",
    "           \n",
    "sortedTuples()\n"
   ]
  },
  {
   "cell_type": "code",
<<<<<<< HEAD
<<<<<<< HEAD
   "execution_count": 57,
=======
   "execution_count": null,
>>>>>>> c60e91a289b07dc5d6da5e5ffdb35f8051894bf5
=======
   "execution_count": 16,
>>>>>>> parent of d01c673 (added comment for aarthi part 7e code)
   "metadata": {},
   "outputs": [],
   "source": [
    "#Aarthi 5f\n",
    "def sortedTuples():\n",
    "    subjectList = []\n",
    "    numCoursesList = []\n",
    "  \n",
    "   \n",
    "    #for course in courses:\n",
    "    gather = dict()\n",
    "    for course in courses:\n",
    "        if course['instructor'] in gather:\n",
    "            num = gather[course['instructor']]\n",
    "            gather[course['instructor']] = num+1\n",
    "        else:\n",
    "            gather[course['instructor']] =1\n",
    "    subjects = list(gather)\n",
    "    courseNum =[]\n",
    "    for subject in gather:\n",
    "        courseNum.append(gather[subject])\n",
    "    subjectData = sorted((list(zip(subjects, courseNum))), key=lambda x:x[1])[-11:-1]\n",
    "    print(list(reversed(subjectData)))\n",
    "        \n",
    "           \n",
    "sortedTuples()\n"
   ]
  },
  {
   "cell_type": "code",
<<<<<<< HEAD
<<<<<<< HEAD
   "execution_count": 58,
=======
   "execution_count": null,
>>>>>>> c60e91a289b07dc5d6da5e5ffdb35f8051894bf5
=======
   "execution_count": 17,
>>>>>>> parent of d01c673 (added comment for aarthi part 7e code)
   "metadata": {},
   "outputs": [],
   "source": [
    "#Aarthi 5g\n",
    "def sortedTuples():\n",
    "    subjectList = []\n",
    "    numCoursesList = []\n",
    "  \n",
    "   \n",
    "    #for course in courses:\n",
    "    gather = dict()\n",
    "    for course in courses:\n",
    "        if course['instructor'] in gather:\n",
    "            num = gather[course['instructor']]\n",
    "            gather[course['instructor']] = num+course['enrolled']\n",
    "        else:\n",
    "            gather[course['instructor']] =course['enrolled']\n",
    "    subjects = list(gather)\n",
    "    courseNum =[]\n",
    "    for subject in gather:\n",
    "        courseNum.append(gather[subject])\n",
    "    subjectData = sorted((list(zip(subjects, courseNum))), key=lambda x:x[1])[-21:-1]\n",
    "    print(list(reversed(subjectData)))\n",
    "sortedTuples()"
   ]
  },
  {
   "cell_type": "code",
<<<<<<< HEAD
<<<<<<< HEAD
   "execution_count": 59,
=======
   "execution_count": null,
>>>>>>> c60e91a289b07dc5d6da5e5ffdb35f8051894bf5
=======
   "execution_count": 22,
>>>>>>> parent of d01c673 (added comment for aarthi part 7e code)
   "metadata": {},
   "outputs": [],
   "source": [
    "#Leora 5h\n",
    "def topTwenty():\n",
    "    gather = dict()\n",
    "    for course in courses:\n",
    "        dict1 =dict()\n",
    "        if course['subject'] in gather:\n",
    "            if course['coursenum'] in gather[course['subject']]:\n",
    "                dict1 = gather[course['subject']]\n",
    "                num = dict1[course['coursenum']]+course['enrolled']\n",
    "                dict1[course['coursenum']] = num\n",
    "                gather[course['subject']] = dict1\n",
    "            else:\n",
    "                dict1 = gather[course['subject']]\n",
    "                dict1[course['coursenum']] = course['enrolled']\n",
    "                gather[course['subject']] = dict1\n",
    "        else:\n",
    "            if len(gather)==0:\n",
    "                dict1[course['coursenum']] = course['enrolled']\n",
    "                gather[course['subject']] = dict1\n",
    "            else:\n",
    "                dict1[course['coursenum']] = course['enrolled']\n",
    "                gather[course['subject']] = dict1\n",
    "    minNum = []\n",
    "    courseNum = []\n",
    "    for dicter in gather:\n",
    "        #print(gather[dicter])\n",
    "        for courser in gather[dicter]:\n",
    "            courseNum.append(courser)\n",
    "            minNum.append(gather[dicter][courser])\n",
    "            #courseNum.append(list(gather[dicter][courser]))\n",
    "        #courseNum.append(minNum)\n",
    "    subjectData = sorted((list(zip(courseNum, minNum))), key=lambda x:x[1])[-21:-1]\n",
    "    print(list(reversed(subjectData)))\n",
    "topTwenty()\n"
   ]
  },
  {
   "cell_type": "markdown",
   "metadata": {},
   "source": [
    "# This is Markdown\n",
    "\n",
    "I wrote a markdown\n",
    "\n",
    "* yes a markdown"
   ]
  },
  {
   "cell_type": "code",
<<<<<<< HEAD
<<<<<<< HEAD
   "execution_count": 60,
=======
   "execution_count": null,
>>>>>>> c60e91a289b07dc5d6da5e5ffdb35f8051894bf5
=======
   "execution_count": 19,
>>>>>>> parent of d01c673 (added comment for aarthi part 7e code)
   "metadata": {},
   "outputs": [],
   "source": [
    "#Aarthi 5i: Create Your Own Question\n",
    "#What is the mean number of students taking COSI courses last year?\n",
    "\n",
    "import statistics\n",
    "def meanSize():\n",
    "    coursesize =[]\n",
    "    \n",
    "    for course in courses:\n",
    "       coursesize.append(course['enrolled'])\n",
    "       coursesize.sort()\n",
    "    print((statistics.mean(coursesize)))\n",
    "    \n",
    "meanSize()\n"
   ]
<<<<<<< HEAD
  },
  {
<<<<<<< HEAD
=======
   "cell_type": "markdown",
   "metadata": {},
   "source": [
    "## Aarti's Questions\n",
    "### Question 5a\n"
   ]
  },
  {
   "cell_type": "code",
   "execution_count": null,
   "metadata": {},
   "outputs": [],
   "source": [
    "def countFaculty():\n",
    "    numProfs = 0\n",
    "    for c in courses:\n",
    "        if c['subject'] == \"COSI\" and '21' in c['term']:\n",
    "            numProfs+=1\n",
    "    return numProfs\n",
    "countFaculty()"
   ]
  },
  {
   "cell_type": "markdown",
   "metadata": {},
   "source": [
    "### Question 5b\n"
   ]
  },
  {
>>>>>>> c60e91a289b07dc5d6da5e5ffdb35f8051894bf5
   "cell_type": "code",
   "execution_count": null,
   "metadata": {},
   "outputs": [],
<<<<<<< HEAD
   "source": []
=======
   "source": [
    "def countStudents():\n",
    "    numStudents = 0\n",
    "    for c in courses:\n",
    "        if c['subject'] == \"COSI\" and '21' in c['term']:\n",
    "            numStudents+=c['enrolled']\n",
    "    return numStudents\n",
    "countStudents()"
   ]
>>>>>>> c60e91a289b07dc5d6da5e5ffdb35f8051894bf5
  },
  {
   "cell_type": "markdown",
   "metadata": {},
<<<<<<< HEAD
   "source": []
=======
   "source": [
    "### Question 5i\n",
    "#### The question I am asking is: \"What classes aren't offered every year?\""
   ]
  },
  {
   "cell_type": "code",
   "execution_count": null,
   "metadata": {},
   "outputs": [],
   "source": [
    "def notOffered():\n",
    "    for c in courses:\n",
    "        if \"Usually offered every year\" not in c['description']:\n",
    "            print(c['name'])\n",
    "notOffered()"
   ]
>>>>>>> c60e91a289b07dc5d6da5e5ffdb35f8051894bf5
=======
>>>>>>> parent of d01c673 (added comment for aarthi part 7e code)
  }
 ],
 "metadata": {
  "kernelspec": {
   "display_name": "Python 3 (ipykernel)",
   "language": "python",
   "name": "python3"
  },
  "language_info": {
   "codemirror_mode": {
    "name": "ipython",
    "version": 3
   },
   "file_extension": ".py",
   "mimetype": "text/x-python",
   "name": "python",
   "nbconvert_exporter": "python",
   "pygments_lexer": "ipython3",
   "version": "3.10.2"
  }
 },
 "nbformat": 4,
 "nbformat_minor": 4
}
