{
 "cells": [
  {
   "cell_type": "markdown",
   "metadata": {},
   "source": [
    "# Courses Demo\n",
    "This Jupyter notebook is for exploring the data set courses20-21.json\n",
    "which consists of all Brandeis courses in the 20-21 academic year (Fall20, Spr21, Sum21) \n",
    "which had at least 1 student enrolled.\n",
    "\n",
    "First we need to read the json file into a list of Python dictionaries"
   ]
  },
  {
   "cell_type": "code",
   "execution_count": null,
   "metadata": {},
   "outputs": [],
   "source": [
    "import json"
   ]
  },
  {
   "cell_type": "code",
   "execution_count": null,
   "metadata": {},
   "outputs": [],
   "source": [
    "with open(\"courses20-21.json\",\"r\",encoding='utf-8') as jsonfile:\n",
    "    courses = json.load(jsonfile)"
   ]
  },
  {
   "cell_type": "markdown",
   "metadata": {},
   "source": [
    "## Structure of a course\n",
    "Next we look at the fields of each course dictionary and their values"
   ]
  },
  {
   "cell_type": "code",
   "execution_count": null,
   "metadata": {},
   "outputs": [],
   "source": [
    "print('there are',len(courses),'courses in the dataset')\n",
    "print('here is the data for course 1246')\n",
    "courses[1246]"
   ]
  },
  {
   "cell_type": "markdown",
   "metadata": {},
   "source": [
    "## Cleaning the data\n",
    "If we want to sort courses by instructor or by code, we need to replace the lists with tuples (which are immutable lists)"
   ]
  },
  {
   "cell_type": "code",
   "execution_count": null,
   "metadata": {},
   "outputs": [],
   "source": [
    "for course in courses:\n",
    "        course['instructor'] = tuple(course['instructor'])\n",
    "        course['coinstructors'] = tuple([tuple(f) for f in course['coinstructors']])\n",
    "        course['code']= tuple(course['code'])"
   ]
  },
  {
   "cell_type": "code",
   "execution_count": null,
   "metadata": {},
   "outputs": [],
   "source": [
    "print('notice that the instructor and code are tuples now')\n",
    "courses[1246]\n"
   ]
  },
  {
   "cell_type": "markdown",
   "metadata": {},
   "source": [
    "# Exploring the data set\n",
    "Now we will show how to use straight python to explore the data set and answer some interesting questions. Next week we will start learning Pandas/Numpy which are packages that make it easier to explore large dataset efficiently.\n",
    "\n",
    "Here are some questions we can try to asnwer:\n",
    "* what are all of the subjects of courses (e.g. COSI, MATH, JAPN, PHIL, ...)\n",
    "* which terms are represented?\n",
    "* how many instructors taught at Brandeis last year?\n",
    "* what were the five largest course sections?\n",
    "* what were the five largest courses (where we combine sections)?\n",
    "* which are the five largest subjects measured by number of courses offered?\n",
    "* which are the five largest courses measured by number of students taught?\n",
    "* which course had the most sections taught in 20-21?\n",
    "* who are the top five faculty in terms of number of students taught?\n",
    "* etc."
   ]
  },
  {
   "cell_type": "code",
   "execution_count": null,
   "metadata": {},
   "outputs": [],
   "source": [
    "subjects = []\n",
    "[subjects.append(course['subject']) for course in courses if course.get('subject') not in subjects]\n",
    "print(subjects)"
   ]
  },
  {
   "cell_type": "code",
   "execution_count": null,
   "metadata": {},
   "outputs": [],
   "source": [
    "terms = []\n",
    "[terms.append(course['term']) for course in courses if course.get('term') not in terms]\n",
    "print(terms)"
   ]
  },
  {
   "cell_type": "code",
   "execution_count": null,
   "metadata": {},
   "outputs": [],
   "source": [
    "instructors = []\n",
    "[instructors.append(course['instructor']) for course in courses if course.get('instructor') not in instructors]\n",
    "print(instructors)"
   ]
  },
  {
   "cell_type": "code",
   "execution_count": null,
   "metadata": {},
   "outputs": [],
   "source": [
    "# Elizabeth 5i\n",
    "consent = []\n",
    "[consent.append(course['name']) for course in courses if 'Consent' in course['status_text']]\n",
    "print(consent[:10])"
   ]
  },
  {
   "cell_type": "code",
   "execution_count": null,
   "metadata": {},
   "outputs": [],
   "source": [
    "# Elizabeth 5i\n",
    "noconsent = []\n",
    "[noconsent.append(course['name']) for course in courses if 'Consent' not in course['status_text']]\n",
    "print(noconsent[:10])"
   ]
  },
  {
   "cell_type": "code",
   "execution_count": null,
   "metadata": {},
   "outputs": [],
   "source": [
    "#Leora 5i - Total Number of students taking Math Courses total and in 2020\n",
    "a =set(course[('instructor')] for course in courses if \"MATH\" in course['subject'])\n",
    "b =tuple(course for course in courses if \"MATH\" in course['subject'])\n",
    "c = set(course['instructor'] for course in b if '20' in course['coursenum'])\n",
    "len(a)\n",
    "print(\"There are: \"+ str(len(a))+\" Math Teachers in total\")\n",
    "print(\"There are: \"+ str(len(c))+\" Math Teachers teaching in 2020\")\n"
   ]
  },
  {
   "cell_type": "code",
   "execution_count": null,
   "metadata": {},
   "outputs": [],
   "source": [
    "#Aarthi 5c\n",
    "import statistics\n",
    "def medianSize():\n",
    "    coursesize =[]\n",
    "\n",
    "    for course in courses:\n",
    "       coursesize.append(course['enrolled'])\n",
    "       coursesize.sort()\n",
    "    print((statistics.median(coursesize)))\n",
    "    \n",
    "medianSize()    "
   ]
  },
  {
   "cell_type": "code",
   "execution_count": null,
   "metadata": {},
   "outputs": [],
   "source": [
    "#Aarthi 5d\n",
    "def sortedTuples():\n",
    "    subjectList = []\n",
    "    enrolledList = []\n",
    "   \n",
    "    for course in courses:\n",
    "        subjectList.append(course['subject'])\n",
    "        enrolledList.append(course['enrolled'])\n",
    "        tuplesData = list(zip(enrolledList, subjectList))\n",
    "        sortedTuple = sorted(tuplesData, key=lambda x:x[0])[-10:-1]\n",
    "\n",
    "    print(list(reversed(sortedTuple)))\n",
    "           \n",
    "sortedTuples()"
   ]
  },
  {
   "cell_type": "code",
   "execution_count": null,
   "metadata": {},
   "outputs": [],
   "source": [
    "#Aarthi 5e\n",
    "def sortedTuples():\n",
    "    subjectList = []\n",
    "    numCoursesList = []\n",
    "  \n",
    "   \n",
    "    for course in courses:\n",
    "        subjectList.append(course['subject'])\n",
    "        numCoursesList.append(course['coursenum'])\n",
    "        tuplesData = list(zip(subjectList, numCoursesList))\n",
    "        sortedTuple = sorted(tuplesData, key=lambda x:x[0])[-10:-1]\n",
    "\n",
    "    print(list(reversed(sortedTuple)))\n",
    "           \n",
    "sortedTuples()\n"
   ]
  },
  {
   "cell_type": "code",
   "execution_count": null,
   "metadata": {},
   "outputs": [],
   "source": [
    "#Aarthi 5f\n",
    "def sortedTuples():\n",
    "    subjectList = []\n",
    "    numInstructorList = []\n",
    "   \n",
    "    for course in courses:\n",
    "        subjectList.append(course['subject'])\n",
    "        numInstructorList.append(course['instructor'])\n",
    "        tuplesData = list(zip(subjectList, numInstructorList))\n",
    "        sortedTuple = sorted(tuplesData, key=lambda x:x[0])[-10:-1]\n",
    "\n",
    "    print(list(reversed(sortedTuple)))\n",
    "           \n",
    "sortedTuples()\n"
   ]
  },
  {
   "cell_type": "code",
   "execution_count": null,
   "metadata": {},
   "outputs": [],
   "source": [
    "#Question 5g\n",
    "def sortedTuples():\n",
    "    numInstructorList = []\n",
    "    enrolledList = []\n",
    "   \n",
    "    for course in courses:\n",
    "        numInstructorList.append(course['instructor'])\n",
    "        enrolledList.append(course['enrolled'])\n",
    "        tuplesData = list(zip(enrolledList,numInstructorList))\n",
    "        sortedTuple = sorted(tuplesData, key=lambda x:x[0])[-20:-1]\n",
    "\n",
    "    print(list(reversed(sortedTuple)))\n",
    "           \n",
    "sortedTuples()"
   ]
  },
  {
   "cell_type": "code",
   "execution_count": null,
   "metadata": {},
   "outputs": [],
   "source": [
    "#Aarthi 5h\n",
    "def sortedTuples():\n",
    "    numCoursesList = []\n",
    "    enrolledList = []\n",
    "   \n",
    "    for course in courses:\n",
    "        numCoursesList.append(course['name'])\n",
    "        enrolledList.append(course['enrolled'])\n",
    "        tuplesData = list(zip(enrolledList,numCoursesList))\n",
    "        sortedTuple = sorted(tuplesData, key=lambda x:x[0])[-20:-1]\n",
    "\n",
    "    print(list(reversed(sortedTuple)))\n",
    "           \n",
    "sortedTuples()"
   ]
  },
  {
   "cell_type": "code",
   "execution_count": null,
   "metadata": {},
   "outputs": [],
   "source": [
    "#Aarthi 5i: Create Your Own Question\n",
    "#What is the mean number of students taking COSI courses last year?\n",
    "\n",
    "import statistics\n",
    "def meanSize():\n",
    "    coursesize =[]\n",
    "    \n",
    "    for course in courses:\n",
    "       coursesize.append(course['enrolled'])\n",
    "       coursesize.sort()\n",
    "    print((statistics.mean(coursesize)))\n",
    "    \n",
    "meanSize()\n"
   ]
  }
 ],
 "metadata": {
  "kernelspec": {
   "display_name": "Python 3 (ipykernel)",
   "language": "python",
   "name": "python3"
  },
  "language_info": {
   "codemirror_mode": {
    "name": "ipython",
    "version": 3
   },
   "file_extension": ".py",
   "mimetype": "text/x-python",
   "name": "python",
   "nbconvert_exporter": "python",
   "pygments_lexer": "ipython3",
   "version": "3.9.7"
  }
 },
 "nbformat": 4,
 "nbformat_minor": 4
}
