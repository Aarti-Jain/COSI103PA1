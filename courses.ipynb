{
 "cells": [
  {
   "cell_type": "markdown",
   "metadata": {},
   "source": [
    "# Courses Demo\n",
    "This Jupyter notebook is for exploring the data set courses20-21.json\n",
    "which consists of all Brandeis courses in the 20-21 academic year (Fall20, Spr21, Sum21) \n",
    "which had at least 1 student enrolled.\n",
    "\n",
    "First we need to read the json file into a list of Python dictionaries"
   ]
  },
  {
   "cell_type": "code",
   "execution_count": 2,
   "metadata": {},
   "outputs": [],
   "source": [
    "import json"
   ]
  },
  {
   "cell_type": "code",
   "execution_count": 3,
   "metadata": {},
   "outputs": [],
   "source": [
    "with open(\"courses20-21.json\",\"r\",encoding='utf-8') as jsonfile:\n",
    "    courses = json.load(jsonfile)"
   ]
  },
  {
   "cell_type": "markdown",
   "metadata": {},
   "source": [
    "## Structure of a course\n",
    "Next we look at the fields of each course dictionary and their values"
   ]
  },
  {
   "cell_type": "code",
   "execution_count": 12,
   "metadata": {},
   "outputs": [
    {
     "name": "stdout",
     "output_type": "stream",
     "text": [
      "there are 7813 courses in the dataset\n",
      "here is the data for course 1246\n"
     ]
    },
    {
     "data": {
      "text/plain": [
       "{'limit': 28,\n",
       " 'times': [{'start': 1080, 'end': 1170, 'days': ['w', 'm']}],\n",
       " 'enrolled': 4,\n",
       " 'details': 'Instruction for this course will be offered remotely. Meeting times for this course are listed in the schedule of classes (in ET).',\n",
       " 'type': 'section',\n",
       " 'status_text': 'Open',\n",
       " 'section': '1',\n",
       " 'waiting': 0,\n",
       " 'instructor': ['An', 'Huang', 'anhuang@brandeis.edu'],\n",
       " 'coinstructors': [],\n",
       " 'code': ['MATH', '223A'],\n",
       " 'subject': 'MATH',\n",
       " 'coursenum': '223A',\n",
       " 'name': 'Lie Algebras: Representation Theory',\n",
       " 'independent_study': False,\n",
       " 'term': '1203',\n",
       " 'description': \"Theorems of Engel and Lie. Semisimple Lie algebras, Cartan's criterion. Universal enveloping algebras, PBW theorem, Serre's construction. Representation theory. Other topics as time permits. Usually offered every second year.\\nAn Huang\"}"
      ]
     },
     "execution_count": 12,
     "metadata": {},
     "output_type": "execute_result"
    }
   ],
   "source": [
    "print('there are',len(courses),'courses in the dataset')\n",
    "print('here is the data for course 1246')\n",
    "courses[1246]"
   ]
  },
  {
   "cell_type": "markdown",
   "metadata": {},
   "source": [
    "## Cleaning the data\n",
    "If we want to sort courses by instructor or by code, we need to replace the lists with tuples (which are immutable lists)"
   ]
  },
  {
   "cell_type": "code",
   "execution_count": 4,
   "metadata": {},
   "outputs": [],
   "source": [
    "for course in courses:\n",
    "        course['instructor'] = tuple(course['instructor'])\n",
    "        course['coinstructors'] = tuple([tuple(f) for f in course['coinstructors']])\n",
    "        course['code']= tuple(course['code'])"
   ]
  },
  {
   "cell_type": "code",
   "execution_count": 5,
   "metadata": {},
   "outputs": [
    {
     "name": "stdout",
     "output_type": "stream",
     "text": [
      "notice that the instructor and code are tuples now\n"
     ]
    },
    {
     "data": {
      "text/plain": [
       "{'limit': 28,\n",
       " 'times': [{'start': 1080, 'end': 1170, 'days': ['w', 'm']}],\n",
       " 'enrolled': 4,\n",
       " 'details': 'Instruction for this course will be offered remotely. Meeting times for this course are listed in the schedule of classes (in ET).',\n",
       " 'type': 'section',\n",
       " 'status_text': 'Open',\n",
       " 'section': '1',\n",
       " 'waiting': 0,\n",
       " 'instructor': ('An', 'Huang', 'anhuang@brandeis.edu'),\n",
       " 'coinstructors': (),\n",
       " 'code': ('MATH', '223A'),\n",
       " 'subject': 'MATH',\n",
       " 'coursenum': '223A',\n",
       " 'name': 'Lie Algebras: Representation Theory',\n",
       " 'independent_study': False,\n",
       " 'term': '1203',\n",
       " 'description': \"Theorems of Engel and Lie. Semisimple Lie algebras, Cartan's criterion. Universal enveloping algebras, PBW theorem, Serre's construction. Representation theory. Other topics as time permits. Usually offered every second year.\\nAn Huang\"}"
      ]
     },
     "execution_count": 5,
     "metadata": {},
     "output_type": "execute_result"
    }
   ],
   "source": [
    "print('notice that the instructor and code are tuples now')\n",
    "courses[1246]\n"
   ]
  },
  {
   "cell_type": "markdown",
   "metadata": {},
   "source": [
    "# Exploring the data set\n",
    "Now we will show how to use straight python to explore the data set and answer some interesting questions. Next week we will start learning Pandas/Numpy which are packages that make it easier to explore large dataset efficiently.\n",
    "\n",
    "Here are some questions we can try to asnwer:\n",
    "* what are all of the subjects of courses (e.g. COSI, MATH, JAPN, PHIL, ...)\n",
    "* which terms are represented?\n",
    "* how many instructors taught at Brandeis last year?\n",
    "* what were the five largest course sections?\n",
    "* what were the five largest courses (where we combine sections)?\n",
    "* which are the five largest subjects measured by number of courses offered?\n",
    "* which are the five largest courses measured by number of students taught?\n",
    "* which course had the most sections taught in 20-21?\n",
    "* who are the top five faculty in terms of number of students taught?\n",
    "* etc."
   ]
  },
  {
   "cell_type": "code",
   "execution_count": 6,
   "metadata": {},
   "outputs": [
    {
     "name": "stdout",
     "output_type": "stream",
     "text": [
      "['HRNS', 'BUS', 'ECON', 'FIN', 'HS', 'ANTH', 'CHEM', 'PHIL', 'HIST', 'PSYC', 'WGS', 'ENG', 'POL', 'BIOL', 'NBIO', 'CHIN', 'MATH', 'MUS', 'SOC', 'BCBP', 'BIOT', 'ED', 'CLAS', 'COMH', 'COSI', 'GRK', 'LAT', 'THA', 'PHYS', 'NEJS', 'NEUR', 'PMED', 'ESL', 'BUS/FIN', 'BUS/ECON', 'ECON/FIN', 'HS/POL', 'HWL', 'GER', 'JAPN', 'KOR', 'RUS', 'ITAL', 'HISP', 'FREN', 'IGS', 'AMST', 'AAAS', 'BCHM', 'BIPH', 'EAS', 'COML', 'SAS', 'YDSH', 'SJSP', 'REL', 'PAX', 'LGLS', 'QBIO', 'BIBC', 'HSSP', 'ENVS', 'ECS', 'FILM', 'FA', 'HOID', 'IIM', 'CAST', 'IMES', 'LALS', 'LING', 'JOUR', 'HBRW', 'NPSY', 'ARBC', 'INT', 'CA', 'EBIO', 'AAAS/WGS', 'HUM', 'EL', 'CBIO', 'AMST/ENG', 'RECS/THA', 'UWS', 'COMP', 'MERS', 'AAS/AAPI', 'AAPI/HIS', 'RECS', 'AAPI/WGS', 'AAAS/HIS', 'BISC', 'AAPI', 'GS', 'POL/WGS', 'HUM/UWS', 'CHSC', 'AMST/MUS', 'HIST/SOC', 'QR', 'CLAS/ENG', 'ANTH/WGS', 'HIST/WGS', 'CLAS/NEJ', 'ECS/ENG', 'RBIF', 'RBOT', 'RCOM', 'RDFT', 'RDMD', 'RHIN', 'RIAS', 'RIDT', 'RMGT', 'RPJM', 'RSAN', 'RSEG', 'RUCD', 'GECS']\n"
     ]
    }
   ],
   "source": [
    "subjects = []\n",
    "[subjects.append(course['subject']) for course in courses if course.get('subject') not in subjects]\n",
    "print(subjects)"
   ]
  },
  {
   "cell_type": "code",
   "execution_count": 7,
   "metadata": {},
   "outputs": [
    {
     "name": "stdout",
     "output_type": "stream",
     "text": [
      "['1203', '1211', '1212']\n"
     ]
    }
   ],
   "source": [
    "terms = []\n",
    "[terms.append(course['term']) for course in courses if course.get('term') not in terms]\n",
    "print(terms)"
   ]
  },
  {
   "cell_type": "code",
   "execution_count": null,
   "metadata": {},
   "outputs": [],
   "source": [
    "instructors = []\n",
    "[instructors.append(course['instructor']) for course in courses if course.get('instructor') not in instructors]\n",
    "print(instructors)"
   ]
  },
  {
   "cell_type": "code",
   "execution_count": 5,
   "metadata": {},
   "outputs": [
    {
     "name": "stdout",
     "output_type": "stream",
     "text": [
      "['Readings in Jewish Professional Leadership', 'Readings in Jewish Professional Leadership', 'Readings in Jewish Professional Leadership', 'Readings in Jewish Professional Leadership', 'Readings in Jewish Professional Leadership', 'Readings in Jewish Professional Leadership', 'Readings in Jewish Professional Leadership', 'Readings in Jewish Professional Leadership', 'Readings in Jewish Professional Leadership', 'Readings in Jewish Professional Leadership']\n"
     ]
    }
   ],
   "source": [
    "# Elizabeth 5i\n",
    "consent = []\n",
    "[consent.append(course['name']) for course in courses if 'Consent' in course['status_text']]\n",
    "print(consent[:10])"
   ]
  },
  {
   "cell_type": "code",
   "execution_count": 7,
   "metadata": {},
   "outputs": [
    {
     "name": "stdout",
     "output_type": "stream",
     "text": [
      "['Global Dexterity', 'Information Visualization', 'Sales and Sales Management', 'Corporate Financial Modeling', 'Technical Analysis', 'Digital Fabrication with Robotics', 'Python and Applications to Business Analytics', 'Analyzing Big Data I', 'Python and Applications to Business Analytics II', 'Jewish Community and Jewish Identity']\n"
     ]
    }
   ],
   "source": [
    "# Elizabeth 5i\n",
    "noconsent = []\n",
    "[noconsent.append(course['name']) for course in courses if 'Consent' not in course['status_text']]\n",
    "print(noconsent[:10])"
   ]
  }
 ],
 "metadata": {
  "kernelspec": {
   "display_name": "Python 3",
   "language": "python",
   "name": "python3"
  },
  "language_info": {
   "codemirror_mode": {
    "name": "ipython",
    "version": 3
   },
   "file_extension": ".py",
   "mimetype": "text/x-python",
   "name": "python",
   "nbconvert_exporter": "python",
   "pygments_lexer": "ipython3",
   "version": "3.9.10"
  }
 },
 "nbformat": 4,
 "nbformat_minor": 4
}
