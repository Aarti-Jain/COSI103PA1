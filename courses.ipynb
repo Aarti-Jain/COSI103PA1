{
 "cells": [
  {
   "cell_type": "markdown",
   "metadata": {},
   "source": [
    "# Courses Demo\n",
    "This Jupyter notebook is for exploring the data set courses20-21.json\n",
    "which consists of all Brandeis courses in the 20-21 academic year (Fall20, Spr21, Sum21) \n",
    "which had at least 1 student enrolled.\n",
    "\n",
    "First we need to read the json file into a list of Python dictionaries"
   ]
  },
  {
   "cell_type": "code",
   "execution_count": 3,
   "metadata": {},
   "outputs": [],
   "source": [
    "import json"
   ]
  },
  {
   "cell_type": "code",
   "execution_count": 4,
   "metadata": {},
   "outputs": [],
   "source": [
    "with open(\"courses20-21.json\",\"r\",encoding='utf-8') as jsonfile:\n",
    "    courses = json.load(jsonfile)"
   ]
  },
  {
   "cell_type": "markdown",
   "metadata": {},
   "source": [
    "## Structure of a course\n",
    "Next we look at the fields of each course dictionary and their values"
   ]
  },
  {
   "cell_type": "code",
   "execution_count": 5,
   "metadata": {},
   "outputs": [
    {
     "name": "stdout",
     "output_type": "stream",
     "text": [
      "there are 7813 courses in the dataset\n",
      "here is the data for course 1246\n"
     ]
    },
    {
     "data": {
      "text/plain": [
       "{'limit': 28,\n",
       " 'times': [{'start': 1080, 'end': 1170, 'days': ['w', 'm']}],\n",
       " 'enrolled': 4,\n",
       " 'details': 'Instruction for this course will be offered remotely. Meeting times for this course are listed in the schedule of classes (in ET).',\n",
       " 'type': 'section',\n",
       " 'status_text': 'Open',\n",
       " 'section': '1',\n",
       " 'waiting': 0,\n",
       " 'instructor': ['An', 'Huang', 'anhuang@brandeis.edu'],\n",
       " 'coinstructors': [],\n",
       " 'code': ['MATH', '223A'],\n",
       " 'subject': 'MATH',\n",
       " 'coursenum': '223A',\n",
       " 'name': 'Lie Algebras: Representation Theory',\n",
       " 'independent_study': False,\n",
       " 'term': '1203',\n",
       " 'description': \"Theorems of Engel and Lie. Semisimple Lie algebras, Cartan's criterion. Universal enveloping algebras, PBW theorem, Serre's construction. Representation theory. Other topics as time permits. Usually offered every second year.\\nAn Huang\"}"
      ]
     },
     "execution_count": 5,
     "metadata": {},
     "output_type": "execute_result"
    }
   ],
   "source": [
    "print('there are',len(courses),'courses in the dataset')\n",
    "print('here is the data for course 1246')\n",
    "courses[1246]"
   ]
  },
  {
   "cell_type": "markdown",
   "metadata": {},
   "source": [
    "## Cleaning the data\n",
    "If we want to sort courses by instructor or by code, we need to replace the lists with tuples (which are immutable lists)"
   ]
  },
  {
   "cell_type": "code",
   "execution_count": 6,
   "metadata": {},
   "outputs": [],
   "source": [
    "for course in courses:\n",
    "        course['instructor'] = tuple(course['instructor'])\n",
    "        course['coinstructors'] = tuple([tuple(f) for f in course['coinstructors']])\n",
    "        course['code']= tuple(course['code'])"
   ]
  },
  {
   "cell_type": "code",
   "execution_count": 7,
   "metadata": {},
   "outputs": [
    {
     "name": "stdout",
     "output_type": "stream",
     "text": [
      "notice that the instructor and code are tuples now\n"
     ]
    },
    {
     "data": {
      "text/plain": [
       "{'limit': 28,\n",
       " 'times': [{'start': 1080, 'end': 1170, 'days': ['w', 'm']}],\n",
       " 'enrolled': 4,\n",
       " 'details': 'Instruction for this course will be offered remotely. Meeting times for this course are listed in the schedule of classes (in ET).',\n",
       " 'type': 'section',\n",
       " 'status_text': 'Open',\n",
       " 'section': '1',\n",
       " 'waiting': 0,\n",
       " 'instructor': ('An', 'Huang', 'anhuang@brandeis.edu'),\n",
       " 'coinstructors': (),\n",
       " 'code': ('MATH', '223A'),\n",
       " 'subject': 'MATH',\n",
       " 'coursenum': '223A',\n",
       " 'name': 'Lie Algebras: Representation Theory',\n",
       " 'independent_study': False,\n",
       " 'term': '1203',\n",
       " 'description': \"Theorems of Engel and Lie. Semisimple Lie algebras, Cartan's criterion. Universal enveloping algebras, PBW theorem, Serre's construction. Representation theory. Other topics as time permits. Usually offered every second year.\\nAn Huang\"}"
      ]
     },
     "execution_count": 7,
     "metadata": {},
     "output_type": "execute_result"
    }
   ],
   "source": [
    "print('notice that the instructor and code are tuples now')\n",
    "courses[1246]\n"
   ]
  },
  {
   "cell_type": "markdown",
   "metadata": {},
   "source": [
    "# Exploring the data set\n",
    "Now we will show how to use straight python to explore the data set and answer some interesting questions. Next week we will start learning Pandas/Numpy which are packages that make it easier to explore large dataset efficiently.\n",
    "\n",
    "Here are some questions we can try to asnwer:\n",
    "* what are all of the subjects of courses (e.g. COSI, MATH, JAPN, PHIL, ...)\n",
    "* which terms are represented?\n",
    "* how many instructors taught at Brandeis last year?\n",
    "* what were the five largest course sections?\n",
    "* what were the five largest courses (where we combine sections)?\n",
    "* which are the five largest subjects measured by number of courses offered?\n",
    "* which are the five largest courses measured by number of students taught?\n",
    "* which course had the most sections taught in 20-21?\n",
    "* who are the top five faculty in terms of number of students taught?\n",
    "* etc."
   ]
  },
  {
   "cell_type": "code",
   "execution_count": 8,
   "metadata": {},
   "outputs": [
    {
     "name": "stdout",
     "output_type": "stream",
     "text": [
      "['HRNS', 'BUS', 'ECON', 'FIN', 'HS', 'ANTH', 'CHEM', 'PHIL', 'HIST', 'PSYC', 'WGS', 'ENG', 'POL', 'BIOL', 'NBIO', 'CHIN', 'MATH', 'MUS', 'SOC', 'BCBP', 'BIOT', 'ED', 'CLAS', 'COMH', 'COSI', 'GRK', 'LAT', 'THA', 'PHYS', 'NEJS', 'NEUR', 'PMED', 'ESL', 'BUS/FIN', 'BUS/ECON', 'ECON/FIN', 'HS/POL', 'HWL', 'GER', 'JAPN', 'KOR', 'RUS', 'ITAL', 'HISP', 'FREN', 'IGS', 'AMST', 'AAAS', 'BCHM', 'BIPH', 'EAS', 'COML', 'SAS', 'YDSH', 'SJSP', 'REL', 'PAX', 'LGLS', 'QBIO', 'BIBC', 'HSSP', 'ENVS', 'ECS', 'FILM', 'FA', 'HOID', 'IIM', 'CAST', 'IMES', 'LALS', 'LING', 'JOUR', 'HBRW', 'NPSY', 'ARBC', 'INT', 'CA', 'EBIO', 'AAAS/WGS', 'HUM', 'EL', 'CBIO', 'AMST/ENG', 'RECS/THA', 'UWS', 'COMP', 'MERS', 'AAS/AAPI', 'AAPI/HIS', 'RECS', 'AAPI/WGS', 'AAAS/HIS', 'BISC', 'AAPI', 'GS', 'POL/WGS', 'HUM/UWS', 'CHSC', 'AMST/MUS', 'HIST/SOC', 'QR', 'CLAS/ENG', 'ANTH/WGS', 'HIST/WGS', 'CLAS/NEJ', 'ECS/ENG', 'RBIF', 'RBOT', 'RCOM', 'RDFT', 'RDMD', 'RHIN', 'RIAS', 'RIDT', 'RMGT', 'RPJM', 'RSAN', 'RSEG', 'RUCD', 'GECS']\n"
     ]
    }
   ],
   "source": [
    "subjects = []\n",
    "[subjects.append(course['subject']) for course in courses if course.get('subject') not in subjects]\n",
    "print(subjects)"
   ]
  },
  {
   "cell_type": "code",
   "execution_count": 9,
   "metadata": {},
   "outputs": [
    {
     "name": "stdout",
     "output_type": "stream",
     "text": [
      "['1203', '1211', '1212']\n"
     ]
    }
   ],
   "source": [
    "terms = []\n",
    "[terms.append(course['term']) for course in courses if course.get('term') not in terms]\n",
    "print(terms)"
   ]
  },
  {
   "cell_type": "code",
   "execution_count": 10,
   "metadata": {},
   "outputs": [
    {
     "name": "stdout",
     "output_type": "stream",
     "text": [
      "[('Sharon', 'Feiman-Nemser', 'snemser@brandeis.edu'), ('Joseph B', 'Reimer', 'reimer@brandeis.edu'), ('Mark', 'Rosen', 'mirosen@brandeis.edu'), ('Jonathan', 'Sarna', 'sarna@brandeis.edu'), ('Ellen', 'Smith', 'esmith2@brandeis.edu'), ('Leonard', 'Saxe', 'saxe@brandeis.edu'), ('Jon A', 'Levisohn', 'levisohn@brandeis.edu'), ('Matthew E.', 'Boxer', 'mboxer@brandeis.edu'), ('Barry', 'Shrage', 'barryshrage@brandeis.edu'), ('Janet K.', 'Aronson', 'jaronson@brandeis.edu'), ('Andrew L', 'Molinsky', 'molinsky@brandeis.edu'), ('Arnold', 'Kamis', 'arnoldkamis@brandeis.edu'), ('Robert', 'Malenfant', 'robmalenfant@brandeis.edu'), ('Staff', 'Staff', 'no_email'), ('Hamza', 'Abdurezak', 'abdurez@brandeis.edu'), ('John', 'Kolovos', 'jkolovos@brandeis.edu'), ('Ian M.', 'Roy', 'ianroy@brandeis.edu'), ('Ahmad', 'Namini', 'anamini@brandeis.edu'), ('Javier', 'Vidal-Berastain', 'xvidalberastain@brandeis.edu'), ('Shirley', 'Idelson', 'sidelson@brandeis.edu'), ('Anna', 'Scherbina', 'ascherbina@brandeis.edu'), ('K. Tibor', 'Toth', 'ttoth@brandeis.edu'), ('Ricardo', 'Godoy', 'rgodoy@brandeis.edu'), ('Sandra', 'Jones', 'joness@brandeis.edu'), ('Rajesh', 'Sampath', 'rsampath@brandeis.edu'), ('Laurence', 'Simon', 'simon@brandeis.edu'), ('Ravi', 'Lakshmikanthan', 'kanthan@brandeis.edu'), ('Robert', 'Kuttner', 'bkuttner@brandeis.edu'), ('Diana', 'Bowser', 'dbowser@brandeis.edu'), ('Graham Whitaker', 'Wright', 'gwwri@brandeis.edu'), ('Donald', 'Shepard', 'shepard@brandeis.edu'), ('Theodore A.', 'Johnson', 'tjohn@brandeis.edu'), ('Sangeeta', 'Tyagi', 'tyagi@brandeis.edu'), ('Fern', 'Chertok', 'no_email'), ('Brenda', 'Anderson', 'banders@brandeis.edu'), ('Bradshaw B.', 'Lupton III', 'shaw1892@brandeis.edu'), ('David', 'Shaby', 'dshaby@brandeis.edu'), ('Benjamin', 'Gomes-Casseres', 'bgc@brandeis.edu'), ('Robert A', 'Angell III', 'rangell@brandeis.edu'), ('Marcia', 'Katz', 'mgkatz@brandeis.edu'), ('Sonia', 'Liang', 'sonialiang@brandeis.edu'), ('Edward', 'Dumas', 'edwarddumas@brandeis.edu'), ('Erich', 'Schumann', 'schumann@brandeis.edu'), ('Jennifer', 'Voldins', 'jennifervoldins@brandeis.edu'), ('Tom', 'Rose', 'tomrose@brandeis.edu'), ('Sarah Taghvai', 'Soroui', 'sorouist@brandeis.edu'), ('Joan', 'Dassin', 'jdassin@brandeis.edu'), ('M. Cristina', 'Espinosa', 'espinosa@brandeis.edu'), ('Laura', 'Beals', 'lbeals@brandeis.edu'), ('Nanako', 'Tamaru', 'tamaru@brandeis.edu'), ('Pierrette', 'Quintiliani', 'pquint@brandeis.edu'), ('Lee', 'Panas', 'lpanas@brandeis.edu'), ('Elizabeth Emma', 'Ferry', 'ferry@brandeis.edu'), ('Charles', 'Golden', 'cgolden@brandeis.edu'), ('Sarah', 'Lamb', 'lamb@brandeis.edu'), ('Janet', 'McIntosh', 'janetmc@brandeis.edu'), ('Ellen', 'Schattschneider', 'eschatt@brandeis.edu'), ('Javier', 'Urcid', 'urcid@brandeis.edu'), ('Anita', 'Hannig', 'hannig@brandeis.edu'), ('Jonathan Shapiro', 'Anjaria', 'janjaria@brandeis.edu'), ('Rebecca', 'Gieseking', 'gieseking@brandeis.edu'), ('Peter', 'Epstein', 'pepstein@brandeis.edu'), ('Greg', 'Childs', 'gchilds@brandeis.edu'), ('Xiaodong', 'Liu', 'xliu0806@brandeis.edu'), ('Jutta M.', 'Wolf', 'jmw@brandeis.edu'), ('Keridwen', 'Luis', 'luis@brandeis.edu'), ('David R.', 'Sherman', 'dsherman@brandeis.edu'), ('Ulka', 'Anjaria', 'uanjaria@brandeis.edu'), ('Jill S', 'Greenlee', 'greenlee@brandeis.edu'), ('Hetal', 'Vig', 'hetalvig@brandeis.edu'), ('Gretchen H.', 'Schneider', 'gretchen@brandeis.edu'), ('Terri', 'Queler', 'tqueler@brandeis.edu'), ('Cassandra Jean', 'Buck', 'cleduc@brandeis.edu'), ('Neil', 'Simister', 'simister@brandeis.edu'), ('Alexandre', 'Bisson', 'bisson@brandeis.edu'), ('Michael Thomas', 'Marr', 'mmarr@brandeis.edu'), ('Suzanne G.', 'Paradis', 'paradis@brandeis.edu'), ('Paul', 'Miller', 'pmiller@brandeis.edu'), ('Yu', 'Feng', 'yfeng@brandeis.edu'), ('Rebecca S', 'Torrey', 'rtorrey@brandeis.edu'), ('David', 'Rakowski', 'rakowski@brandeis.edu'), ('Eric', 'Chasalow', 'chasalow@brandeis.edu'), ('Pascal', 'Menoret', 'pmenoret@brandeis.edu'), ('Laura J.', 'Miller', 'lamiller@brandeis.edu'), ('Julia R', 'Kardon', 'kardon@brandeis.edu'), ('Li', 'Deng', 'deng@brandeis.edu'), ('Zvonimir', 'Dogic', 'zdogic@brandeis.edu'), ('Irving R', 'Epstein', 'epstein@brandeis.edu'), ('Bruce', 'Goode', 'goode@brandeis.edu'), ('Leslie Claire', 'Griffith', 'griffith@brandeis.edu'), ('Michael', 'Hagan', 'hagan@brandeis.edu'), ('Judith', 'Herzfeld', 'herzfeld@brandeis.edu'), ('Jané', 'Kondev', 'kondev@brandeis.edu'), ('Isaac J.', 'Krauss', 'kraussi@brandeis.edu'), ('Nelson C.', 'Lau', 'nlau@brandeis.edu'), ('Susan', 'Lovett', 'lovett@brandeis.edu'), ('Thomas Charles', 'Pochapsky', 'pochapsk@brandeis.edu'), ('Avital', 'Rodal', 'arodal@brandeis.edu'), ('Klaus', 'Schmidt-Rohr', 'srohr@brandeis.edu'), ('Barry B', 'Snider', 'snider@brandeis.edu'), ('Christine M.', 'Thomas', 'thomasc@brandeis.edu'), ('Bing', 'Xu', 'bxu@brandeis.edu'), ('Sacha', 'Nelson', 'nelson@brandeis.edu'), ('John', 'Lisman', 'lisman@brandeis.edu'), ('Timothy', 'Street', 'tstreet@brandeis.edu'), ('Seth', 'Fraden', 'fraden@brandeis.edu'), ('Christopher', 'Miller', 'cmiller@brandeis.edu'), ('Dorothee', 'Kern', 'dkern@brandeis.edu'), ('Jeff', 'Gelles', 'gelles@brandeis.edu'), ('Tijana', 'Ivanovic', 'ivanovic@brandeis.edu'), ('Maria-Eirini', 'Pandelia', 'mepandelia@brandeis.edu'), ('Steve A. N.', 'Goldstein', 'sangold@brandeis.edu'), ('Daniel A.', 'Krummel', 'dapk@brandeis.edu'), ('Daniel', 'Oprian', 'oprian@brandeis.edu'), ('Dagmar', 'Ringe', 'ringe@brandeis.edu'), ('Douglas L.', 'Theobald', 'theobal@brandeis.edu'), ('Emily J.', 'Westover', 'westover@brandeis.edu'), ('Daniela', 'Nicastro', 'nicastro@brandeis.edu'), ('Lizbeth', 'Hedstrom', 'hedstrom@brandeis.edu'), ('James E', 'Haber', 'haber@brandeis.edu'), ('Gregory', 'Petsko', 'petsko@brandeis.edu'), ('Susan J', 'Birren', 'birren@brandeis.edu'), ('Paul A.', 'Garrity', 'pgarrity@brandeis.edu'), ('Kenneth C', 'Hayes', 'kchayes@brandeis.edu'), ('Eve E', 'Marder', 'marder@brandeis.edu'), ('James R.', 'Morris', 'jmorris@brandeis.edu'), ('Michael', 'Rosbash', 'rosbash@brandeis.edu'), ('Piali', 'Sengupta', 'sengupta@brandeis.edu'), ('Gina G', 'Turrigiano', 'turrigia@brandeis.edu'), ('Stephen D.', 'Van Hooser', 'vanhoosr@brandeis.edu'), ('Lawrence J', 'Wangh', 'wangh@brandeis.edu'), ('Shantanu', 'Jadhav', 'shantanu@brandeis.edu'), ('Paul', 'DiZio', 'dizio@brandeis.edu'), ('Dan L', 'Perlman', 'perlman@brandeis.edu'), ('Ruibao', 'Ren', 'ren@brandeis.edu'), ('Bruce M', 'Foxman', 'foxman1@brandeis.edu'), ('Rachel B.', 'Kramer Theodorou', 'rbkramer@brandeis.edu'), ('Danielle', 'Igra', 'digra@brandeis.edu'), ('Casey', 'Wade', 'cwade@brandeis.edu'), ('Cheryl L', 'Walker', 'cwalker@brandeis.edu'), ('Ann Olga', 'Koloski-Ostrow', 'aoko@brandeis.edu'), ('Joel', 'Christensen', 'joel@brandeis.edu'), ('Nancy J', 'Scott', 'scott@brandeis.edu'), ('Laurie A.', 'Nsiah-Jefferson', 'ljeffers@brandeis.edu'), ('Timothy J', 'Hickey', 'tjhickey@brandeis.edu'), ('Richard', 'Alterman', 'ralterma@brandeis.edu'), ('Mitch', 'Cherniack', 'mfc@brandeis.edu'), ('Olga', 'Papaemmanouil', 'opapaemm@brandeis.edu'), ('Ira M', 'Gessel', 'gessel@brandeis.edu'), ('Harry', 'Mairson', 'mairson@brandeis.edu'), ('Jordan', 'Pollack', 'pollack@brandeis.edu'), ('James', 'Pustejovsky', 'jamesp@brandeis.edu'), ('Liuba', 'Shrira', 'liuba@brandeis.edu'), ('James A', 'Storer', 'storer@brandeis.edu'), ('Pengyu', 'Hong', 'hongpeng@brandeis.edu'), ('Nianwen', 'Xue', 'xuen@brandeis.edu'), ('Marie M.', 'Meteer', 'mmeteer@brandeis.edu'), ('Ralph', 'Salas', 'rpsalas@brandeis.edu'), ('Lotus', 'Goldberg', 'lmgold@brandeis.edu'), ('Antonella', 'DiLillo', 'dilant@brandeis.edu'), ('Sophia', 'Malamud', 'smalamud@brandeis.edu'), ('Marya', 'Levenson', 'mlevenso@brandeis.edu'), ('Paul', 'Morrison', 'pmorriso@brandeis.edu'), ('Aliyyah', 'Abdur-Rahman', 'aliabdur@brandeis.edu'), ('John', 'Burt', 'burt@brandeis.edu'), ('Mary Baine', 'Campbell', 'campbell@brandeis.edu'), ('William', 'Flesch', 'flesch@brandeis.edu'), ('Caren', 'Irr', 'irr@brandeis.edu'), ('Thomas A', 'King', 'tking@brandeis.edu'), ('John', 'Plotz', 'plotz@brandeis.edu'), ('Laura', 'Quinney', 'quinney@brandeis.edu'), ('Dawn M.', 'Skorczewski', 'dawnskor@brandeis.edu'), ('Faith Lois', 'Smith', 'fsmith@brandeis.edu'), ('Ramie', 'Targoff', 'targoff@brandeis.edu'), ('Patricia A', 'Johnston', 'johnston@brandeis.edu'), ('David Hackett', 'Fischer', 'fischer@brandeis.edu'), ('David', 'Engerman', 'engerman@brandeis.edu'), ('Michael', 'Willrich', 'willrich@brandeis.edu'), ('Brian M', 'Donahue', 'bdonahue@brandeis.edu'), ('Silvia M', 'Arrom', 'arrom@brandeis.edu'), ('Mark L', 'Hulliung', 'hulliung@brandeis.edu'), ('Alice A', 'Kelikian', 'kelikian@brandeis.edu'), ('Joyce', 'Antler', 'antler@brandeis.edu'), ('Karen', 'Hansen', 'khansen@brandeis.edu'), ('Govind', 'Sreenivasan', 'sreeniva@brandeis.edu'), ('Naghmeh', 'Sohrabi', 'sohrabi@brandeis.edu'), ('Gregory L', 'Freeze', 'freeze@brandeis.edu'), ('Xing', 'Hang', 'xinghang@brandeis.edu'), ('Heyward Parker', 'James', 'hpjames@brandeis.edu'), ('Paul', 'Jankowski', 'pjankows@brandeis.edu'), ('William E', 'Kapelle', 'wkapelle@brandeis.edu'), ('David', 'Powelstock', 'pstock@brandeis.edu'), ('Daniel Thomas', 'Kryder', 'kryder@brandeis.edu'), ('Abigail', 'Cooper', 'abcooper@brandeis.edu'), ('ChaeRan Yoo', 'Freeze', 'cfreeze@brandeis.edu'), ('Hannah Weiss', 'Muller', 'mullerh@brandeis.edu'), ('Jehuda', 'Reinharz', 'jreinhar@brandeis.edu'), ('Eugene R', 'Sheppard', 'sheppard@brandeis.edu'), ('Chad', 'Williams', 'chadw@brandeis.edu'), ('Wendy', 'Cadge', 'wcadge@brandeis.edu'), ('Bernadette', 'Brooten', 'brooten@brandeis.edu'), ('Elizabeth', 'Brainerd', 'ebrainer@brandeis.edu'), ('Harleen', 'Singh', 'harleen@brandeis.edu'), ('Marion', 'Smiley', 'smiley@brandeis.edu'), ('Deirdre', 'Hunter', 'dhunter@brandeis.edu'), ('Sabine', 'von Mering', 'vonmerin@brandeis.edu'), ('Ilana', 'Szobel', 'szobel@brandeis.edu'), ('Jasmine', 'Johnson', 'jejohnson@brandeis.edu'), ('Peter R', 'Kalb', 'pkalb@brandeis.edu'), ('Anita', 'Hill', 'ahill@brandeis.edu'), ('Nancy', 'Armstrong', 'nanarm@brandeis.edu'), ('Jennifer A.', 'Cleary', 'jacleary@brandeis.edu'), ('Susan', 'Dibble', 'dibble@brandeis.edu'), ('Arthur', 'Holmberg', 'holmberg@brandeis.edu'), ('Adrianne', 'Krstansky', 'krstansk@brandeis.edu'), ('Marya', 'Lowry', 'lowry@brandeis.edu'), ('Ryan', 'McKittrick', 'mckittr@brandeis.edu'), ('Robert O', 'Moody', 'moody@brandeis.edu'), ('Janet', 'Morrison', 'morrison@brandeis.edu'), ('Robert E', 'Walsh', 'rwalsh@brandeis.edu'), ('Raymond', 'Knight', 'knight2@brandeis.edu'), ('Leslie A', 'Zebrowitz', 'zebrowit@brandeis.edu'), ('Joseph G', 'Cunningham', 'cunningh@brandeis.edu'), ('Donald B.', 'Katz', 'dbkatz@brandeis.edu'), ('Margie', 'Lachman', 'lachman@brandeis.edu'), ('James R', 'Lackner', 'lackner@brandeis.edu'), ('Robert W', 'Sekuler', 'sekuler@brandeis.edu'), ('Arthur', 'Wingfield', 'wingfiel@brandeis.edu'), ('Teresa Vann', 'Mitchell', 'tmitch@brandeis.edu'), ('Angela', 'Gutchess', 'gutchess@brandeis.edu'), ('Ellen J', 'Wright', 'ejwright@brandeis.edu'), ('Nicolas', 'Rohleder', 'rohleder@brandeis.edu'), ('Jennifer', 'Gutsell', 'jgutsell@brandeis.edu'), ('Hannah', 'Snyder', 'hrsnyder@brandeis.edu'), ('Steven L.', 'Burg', 'burg@brandeis.edu'), ('Robert J', 'Art', 'art@brandeis.edu'), ('Jytte', 'Klausen', 'klausen@brandeis.edu'), ('Martin A', 'Levin', 'levin@brandeis.edu'), ('Ralph', 'Thaxton', 'thaxton@brandeis.edu'), ('Bernard', 'Yack', 'yack@brandeis.edu'), ('Shai', 'Feldman', 'sfeldman@brandeis.edu'), ('Eva R.', 'Bellin', 'ebellin@brandeis.edu'), ('Kerry A', 'Chase', 'chase@brandeis.edu'), ('Jeffrey A.', 'Lenowitz', 'lenowitz@brandeis.edu'), ('James R', 'Bensinger', 'bensinge@brandeis.edu'), ('Craig A', 'Blocker', 'blocker@brandeis.edu'), ('Bulbul', 'Chakraborty', 'bulbul@brandeis.edu'), ('Richard N', 'Fell', 'fell@brandeis.edu'), ('Albion E', 'Lawrence', 'albion@brandeis.edu'), ('John FC', 'Wardle', 'wardle@brandeis.edu'), ('William Benjamin', 'Rogers', 'wrogers@brandeis.edu'), ('Matthew', 'Headrick', 'headrick@brandeis.edu'), ('Aparna', 'Baskaran', 'aparna@brandeis.edu'), ('Gabriella', 'Sciolla', 'sciolla@brandeis.edu'), ('Gleb', 'Nenashev', 'nenashev@brandeis.edu'), ('Kiyoshi', 'Igusa', 'igusa@brandeis.edu'), ('Ruth', 'Charney', 'charney@brandeis.edu'), ('John', 'Wilmes', 'wilmes@brandeis.edu'), ('Bong', 'Lian', 'lian@brandeis.edu'), ('Alan', 'Mayer', 'mayer@brandeis.edu'), ('Daniel', 'Ruberman', 'ruberman@brandeis.edu'), ('Dmitry', 'Kleinbock', 'kleinboc@brandeis.edu'), ('Mark A', 'Adler', 'adler@brandeis.edu'), ('Olivier', 'Bernardi', 'bernardi@brandeis.edu'), ('Joel', 'Bellaiche', 'jbellaic@brandeis.edu'), ('Thomas', 'Fai', 'tfai@brandeis.edu'), ('Omer', 'Offen', 'offen@brandeis.edu'), ('Eric Thomas', 'Chafe', 'chafe@brandeis.edu'), ('Paula Jo', 'Musegades', 'musegade@brandeis.edu'), ('Erin', 'Gee', 'eringee@brandeis.edu'), ('Judith', 'Eissenberg', 'eissenbe@brandeis.edu'), ('Joshua L', 'Gordon', 'gordon@brandeis.edu'), ('Neal', 'Hampton', 'hampton@brandeis.edu'), ('Allan R', 'Keiler', 'keiler@brandeis.edu'), ('Sarah', 'Mead-Ramsey', 'mead@brandeis.edu'), ('Robert', 'Nieske', 'nieske@brandeis.edu'), ('Yu-Hui', 'Chang', 'ychang@brandeis.edu'), ('Daniel', 'Stepner', 'stepner@brandeis.edu'), ('Seth J.', 'Coluzzi', 'coluzzi@brandeis.edu'), ('Sylvia', 'Fishman', 'fishman@brandeis.edu'), ('Selwyn K.', 'Troen', 'troen@brandeis.edu'), ('Jonathan P.', 'Decter', 'decter@brandeis.edu'), ('Carl Sharif', 'El-Tobgui', 'eltobgui@brandeis.edu'), ('Ellen', 'Kellman', 'kellman@brandeis.edu'), ('Reuven R', 'Kimelman', 'kimelman@brandeis.edu'), ('Yehudah', 'Mirsky', 'mirsky@brandeis.edu'), ('David', 'Wright', 'wright@brandeis.edu'), ('Jonathan B.', 'Krasner', 'jkrasner@brandeis.edu'), ('David', 'Ellenson', 'dellenson@brandeis.edu'), ('Richard', 'Gaskins', 'gaskins@brandeis.edu'), ('Eli', 'Hirsch', 'hirsch@brandeis.edu'), ('Jerry', 'Samet', 'samet@brandeis.edu'), ('Kathleen A.', 'Moran', 'kmoran@brandeis.edu'), ('Andreas', 'Teuber', 'teuber@brandeis.edu'), ('Palle', 'Yourgrau', 'yourgrau@brandeis.edu'), ('Gordon A', 'Fellman', 'fellman@brandeis.edu'), ('Thomas M', 'Shapiro', 'tshapiro@brandeis.edu'), ('Sara', 'Shostak', 'sshostak@brandeis.edu'), ('Carmen', 'Sirianni', 'sirianni@brandeis.edu'), ('Chandler', 'Rosenberger', 'crosen@brandeis.edu'), ('Cynthia M.', 'Marchand', 'cmarc0001@brandeis.edu'), ('Aja', 'Jackson', 'ajackson@brandeis.edu'), ('Julie', 'Horwitz', 'juliehorwitz@brandeis.edu'), ('Margery', 'Sokoloff', 'msokolof@brandeis.edu'), ('Amy', 'Lee', 'amysylee@brandeis.edu'), ('Sebastien', 'Kadener', 'skadener@brandeis.edu'), ('Maura', 'Kelley', 'maurakelley@brandeis.edu'), ('Vinodini', 'Murugesan', 'vino@brandeis.edu'), ('Amy', 'Rinaldo', 'arinaldo@brandeis.edu'), ('Max', 'Mishler', 'maxmishler@brandeis.edu'), ('Bjoern', 'Penning', 'penning@brandeis.edu'), ('Marcelle', 'Soares-Santos', 'marcelle@brandeis.edu'), ('Jane', 'Kamensky', 'kamensky@brandeis.edu'), ('I. Tzvi', 'Abusch', 'abusch@brandeis.edu'), ('Marlyn L.', 'Miller', 'mmiller@brandeis.edu'), ('Karen', 'Desmond', 'kdesmond@brandeis.edu'), ('Susan S', 'Lanser', 'lanser@brandeis.edu'), ('Grace G D', 'Han', 'gracehan@brandeis.edu'), ('Rachel', 'Knecht', 'rknecht@brandeis.edu'), ('Rachel Lea', 'Fish', 'rlfish@brandeis.edu'), ('An', 'Huang', 'anhuang@brandeis.edu'), ('Suleyman', 'Dost', 'dost@brandeis.edu'), ('Niels', 'Bradshaw', 'niels@brandeis.edu'), ('Caitlin', 'Gillespie', 'cgillespie@brandeis.edu'), ('Matthew', 'Fraleigh', 'fraleigh@brandeis.edu'), ('Alexandra', 'Ratzlaff', 'ratzlaff@brandeis.edu'), ('Jonathan', 'Touboul', 'jtouboul@brandeis.edu'), ('Keith', 'Merrill', 'merrill2@brandeis.edu'), ('Timothy', 'Lorek', 'timothylorek@brandeis.edu'), ('Anne S', 'Berry', 'anneberry@brandeis.edu'), ('Emilie', 'Diouf', 'diouf@brandeis.edu'), ('Hongfu', 'Liu', 'hongfuliu@brandeis.edu'), ('Constantine', 'Lignos', 'lignos@brandeis.edu'), ('Michael', 'Strand', 'mstrand@brandeis.edu'), ('Siri', 'Suh', 'jssuh@brandeis.edu'), ('Guillaume', 'Duclos', 'gduclos@brandeis.edu'), ('Wangui', 'Muigai', 'wmuigai@brandeis.edu'), ('Melissa', 'Kosinski-Collins', 'kosinski@brandeis.edu'), ('Jerome', 'Tharaud', 'jtharaud@brandeis.edu'), ('Philippe', 'Wells', 'pwells@brandeis.edu'), ('Blake', 'LeBaron', 'blebaron@brandeis.edu'), ('Aldo', 'Musacchio', 'aldom@brandeis.edu'), ('J. Bradley', 'Morrison', 'bmorriso@brandeis.edu'), ('Gene Allen', 'Miller', 'gene@brandeis.edu'), ('Alice', 'Hsiaw', 'ahsiaw@brandeis.edu'), ('John', 'Ballantine Jr.', 'johnbal@brandeis.edu'), ('Gary H', 'Jefferson', 'jefferso@brandeis.edu'), ('Carol L', 'Osler', 'cosler@brandeis.edu'), ('Daniel', 'Bergstresser', 'dberg@brandeis.edu'), ('Robert', 'Carver', 'rcarver@brandeis.edu'), ('Davide', 'Pettenuzzo', 'dpettenu@brandeis.edu'), ('Michael', 'Munsell', 'mmunsell@brandeis.edu'), ('Hagit', 'Weihs', 'hagit@brandeis.edu'), ('Jay', 'Leu', 'jleu@brandeis.edu'), ('Qingxi Steve', 'Xia', 'qsxia@brandeis.edu'), ('Debarshi K', 'Nandy', 'dnandy@brandeis.edu'), ('Jane', 'Ebert', 'jebert@brandeis.edu'), ('Grace E.', 'Zimmerman', 'gzimmerm@brandeis.edu'), ('Ying L', 'Becker', 'ylbecker@brandeis.edu'), ('Robert R.', 'Reitano', 'rreitano@brandeis.edu'), ('George J.', 'Hall', 'ghall@brandeis.edu'), ('Shanto', 'Ghosh', 'shghosh@brandeis.edu'), ('Nidhiya', 'Menon', 'nmenon@brandeis.edu'), ('Emily', 'Frey', 'eafrey@brandeis.edu'), ('Alice Ain', 'Rich', 'aliceainrich@brandeis.edu'), ('Emilie', 'Connolly', 'emilieconnolly@brandeis.edu'), ('Judith M.', 'Dean', 'judydean@brandeis.edu'), ('Dorothy', 'Kim', 'dorothykim@brandeis.edu'), ('Chuxu', 'Zhang', 'chuxuzhang@brandeis.edu'), ('Gowri', 'Vijayakumar', 'gowri@brandeis.edu'), ('Marcie F.', 'Abramson', 'bramson@brandeis.edu'), ('Rebecca D.', 'Katsh', 'katsh@brandeis.edu'), ('Hayal', 'Akarsu', 'akarsu@brandeis.edu'), ('Tatjana', 'Meschede', 'meschede@brandeis.edu'), ('Pamina', 'Firchow', 'pfirchow@brandeis.edu'), ('David J.', 'Whalen', 'dwhalen@brandeis.edu'), ('Carole', 'Carlson', 'ccarlson@brandeis.edu'), ('Alain', 'Lempereur', 'apl@brandeis.edu'), ('Stephen', 'Fournier', 'fournier@brandeis.edu'), ('Jon', 'Chilingerian', 'chilinge@brandeis.edu'), ('Jody Hoffer', 'Gittell', 'jgittell@brandeis.edu'), ('Jeffrey', 'Prottas', 'prottas@brandeis.edu'), ('Pratistha', 'Joshi Rajkarnikar', 'pratisthaj@brandeis.edu'), ('Joseph Kweku', 'Assan', 'joeassan@brandeis.edu'), ('Sakshi', 'Jain', 'sakshijain@brandeis.edu'), ('Marji Erickson', 'Warfield', 'mew@brandeis.edu'), ('Mary Fontanella', 'Brolin', 'brolin@brandeis.edu'), ('Cornelia', 'Kammerer', 'kammerer@brandeis.edu'), ('Dominic', 'Hodgkin', 'hodgkin@brandeis.edu'), ('Della', 'Hughes', 'dhughes@brandeis.edu'), ('Stuart', 'Altman', 'altman@brandeis.edu'), ('Michael', 'Doonan', 'doonan@brandeis.edu'), ('Jessica Harper', 'Santos', 'jsantos@brandeis.edu'), ('Dolores', 'Acevedo-Garcia', 'dacevedo@brandeis.edu'), ('Jennifer N.', 'Perloff', 'perloff@brandeis.edu'), ('Constance M', 'Horgan', 'horgan@brandeis.edu'), ('Monika', 'Mitra', 'mmitra@brandeis.edu'), ('Emilio', 'Velis', 'no_email'), ('Umrao', 'Sethi', 'sethi@brandeis.edu'), ('Amy', 'Singer', 'amysinger@brandeis.edu'), ('Leah', 'Wright Rigueur', 'leahw@brandeis.edu'), ('Kathryn', 'Graddy', 'kgraddy@brandeis.edu'), ('Brian', 'Horton', 'bhorton@brandeis.edu'), ('Yuri', 'Doolan', 'yuridoolan@brandeis.edu'), ('Derron', 'Wallace', 'dwallace@brandeis.edu'), ('Agustin', 'Ros', 'aros@brandeis.edu'), ('Christine E', 'Bishop', 'bishop@brandeis.edu'), ('Lawrence N', 'Bailis', 'bailis@brandeis.edu'), ('Michael M', 'Appell', 'appell@brandeis.edu'), ('Joel', 'Cutcher-Gershenfeld', 'joelcg@brandeis.edu'), ('Peter A', 'Petri', 'ppetri@brandeis.edu'), ('Guillermina', 'Ramirez-San Juan', 'guillermina@brandeis.edu'), ('Darren E.', 'Zinner', 'dzinner@brandeis.edu'), ('Linda', 'Bui', 'ltbui@brandeis.edu'), ('Marcia M.', 'Boumil', 'no_email'), ('Deborah W.', 'Garnick', 'garnick@brandeis.edu'), ('James A', 'Zotz', 'zotz@brandeis.edu'), ('Jennie', 'Salmon', 'jsalmon@brandeis.edu'), ('Sam', 'Rubinstein', 'rubinstein@brandeis.edu'), ('James', 'True', 'jtrue12@brandeis.edu'), ('Scott', 'Waddell', 'saw10@brandeis.edu'), ('Carol A.', 'Baer', 'cbaer@brandeis.edu'), ('Scott', 'Foulis', 'sfoulis@brandeis.edu'), ('Christian', 'Schultz', 'cschultz@brandeis.edu'), ('Nicole', 'Carter', 'nicolecarter@brandeis.edu'), ('Elizabeth', 'Nako', 'enako@brandeis.edu'), ('Steven', 'Weglinski', 'weglinski@brandeis.edu'), ('Leah', 'Berkenwald', 'leahb@brandeis.edu'), ('Lauren Alisa', 'Dropkin', 'ldropkin@brandeis.edu'), ('Zachary', 'Vigliani', 'zvigliani@brandeis.edu'), ('Katherine', 'Page', 'kpage@brandeis.edu'), ('Adam', 'Batista', 'abatista@brandeis.edu'), ('Alesia Jane', 'Vaccari', 'vaccari@brandeis.edu'), ('Rachael', 'Friedman', 'rachaelfriedman@brandeis.edu'), ('Anna', 'Esposito', 'aesposito@brandeis.edu'), ('Sharon', 'Marrama', 'sharonmarrama@brandeis.edu'), ('Laura', 'Golitko', 'lgolitko@brandeis.edu'), ('Jill', 'Dreeben', 'jdreeben@brandeis.edu'), ('Keone', 'Peterson', 'kpeterson@brandeis.edu'), ('Matt', 'Carriker', 'no_email'), ('Kate', 'Stutz', 'stutz@brandeis.edu'), ('Derek', 'Jenesky', 'djenesky@brandeis.edu'), ('Jian', 'Wei', 'jianwei@brandeis.edu'), ('Xiwen', 'Lu', 'xiwenlu@brandeis.edu'), ('Pu', 'Wang', 'pwang@brandeis.edu'), ('Chunzi', 'Chai', 'cchai@brandeis.edu'), ('Stephen', 'Dowden', 'dowden@brandeis.edu'), ('Yukiko', 'Takahashi', 'yukikotakahashi@brandeis.edu'), ('Yukimi', 'Nakano', 'yukimi@brandeis.edu'), ('Mayumi', 'Tamaki', 'mtamaki@brandeis.edu'), ('Eun-Jo', 'Lee', 'elee2395@brandeis.edu'), ('Irina Y', 'Dubinina', 'idubinin@brandeis.edu'), ('Valeriya', 'Kozlovskaya', 'vkozlovskaya@brandeis.edu'), ('Silvia', 'Monteleone-Wasson', 'spmw@brandeis.edu'), ('Paola', 'Servino', 'servino@brandeis.edu'), ('Raysa', 'Mederos', 'mederos@brandeis.edu'), ('Andrew Ryan', 'Sewick', 'asewick@brandeis.edu'), ('Christa S', 'Gould', 'christagould@brandeis.edu'), ('Elena', 'Gonzalez Ros', 'elenag@brandeis.edu'), ('Kristen M', 'Turpin', 'kturpin@brandeis.edu'), ('Lucia Teresa', 'Reyes de Deu', 'lreyes@brandeis.edu'), ('Ian Andrew', 'MacDonald', 'imacdonald@brandeis.edu'), ('Catherine', 'Theobald', 'ctheobal@brandeis.edu'), ('Hollie', 'Harder', 'harder@brandeis.edu'), ('Michael', 'Randall', 'randall@brandeis.edu'), ('Maria', 'de Boef Miara', 'mmiara@brandeis.edu'), ('Rachel V.E.', 'Woodruff', 'woodruff@brandeis.edu'), ('Kene Nathan', 'Piasta', 'kpiasta@brandeis.edu'), ('Deanni', 'Cooper', 'dcooper@brandeis.edu'), ('Jacob', 'Cohen', 'jcohen@brandeis.edu'), ('Laura J', 'Goldin', 'goldin@brandeis.edu'), ('Stephen J', 'Whitfield', 'swhitfie@brandeis.edu'), ('Maura Jane', 'Farrelly', 'farrelly@brandeis.edu'), ('Thomas', 'Doherty', 'doherty@brandeis.edu'), ('Wellington', 'Nyangoni', 'nyangoni@brandeis.edu'), ('Eileen', 'McNamara', 'eileenma@brandeis.edu'), ('Patricia', 'Alvarez Astacio', 'palvarez@brandeis.edu'), ('Nikolaus', 'Grigorieff', 'niko@brandeis.edu'), ('Joan L', 'Press', 'press@brandeis.edu'), ('Judith E', 'Tsipis', 'tsipis@brandeis.edu'), ('Colleen', 'Hitchcock', 'hitchcock@brandeis.edu'), ('Aida Yuen', 'Wong', 'aida@brandeis.edu'), ('Edward', 'Bayone', 'ebayone@brandeis.edu'), ('Charles', 'Reed Jr.', 'creed@brandeis.edu'), ('Detlev H', 'Suderow', 'suderow@brandeis.edu'), ('V Varun', 'Chaudhry', 'vchaudhry@brandeis.edu'), ('Milos', 'Dolnik', 'dolnik@brandeis.edu'), ('Claudia', 'Novack', 'novack@brandeis.edu'), ('Jing', 'Bi', 'jbi@brandeis.edu'), ('James', 'Mandrell', 'mandrell@brandeis.edu'), ('Robin Feuer', 'Miller', 'rfmiller@brandeis.edu'), ('Fernando J.', 'Rosenberg', 'ferosen@brandeis.edu'), ('Jerónimo', 'Arellano', 'jarellan@brandeis.edu'), ('Melissa', 'Stimell', 'stimell@brandeis.edu'), ('Thuy', 'Lam', 'tlam@brandeis.edu'), ('Cindy Lou Parks', 'Thomas', 'cthomas@brandeis.edu'), ('Mayada', 'Saadoun', 'mayada@brandeis.edu'), ('Stephen P.', 'Gulley', 'gulley@brandeis.edu'), ('Sarah Elisabeth', 'Curi', 'scuri@brandeis.edu'), ('Harry Michael', 'Coiner', 'coiner@brandeis.edu'), ('Scott A.', 'Redenius', 'redenius@brandeis.edu'), ('Nader', 'Habibi', 'nhabibi@brandeis.edu'), ('Elizabeth', 'Bradfield', 'ebrad@brandeis.edu'), ('Stephen D.', 'McCauley', 'smccau@brandeis.edu'), ('Marc', 'Weinberg', 'marcw@brandeis.edu'), ('Charles', 'Chester', 'cchester@brandeis.edu'), ('Eric', 'Olson', 'eolson@brandeis.edu'), ('Dwight G', 'Peavey', 'dpeavey@brandeis.edu'), ('Gannit', 'Ankori', 'gannit@brandeis.edu'), ('Jonathan W', 'Unglaub', 'unglaub@brandeis.edu'), ('Tory', 'Fair', 'fair@brandeis.edu'), ('Susan', 'Lichtman', 'lichtman@brandeis.edu'), ('Joseph M', 'Wardwell', 'wardwell@brandeis.edu'), ('Charles', 'McClendon', 'mcclendo@brandeis.edu'), ('Alfredo', 'Gisholt', 'gisholt@brandeis.edu'), ('Christopher', 'Abrams', 'arosebud@brandeis.edu'), ('Christopher', 'Frost', 'cfrost@brandeis.edu'), ('Martine', 'Voiret', 'voiret@brandeis.edu'), ('Winston Alexander', 'Bowman', 'wbowman@brandeis.edu'), ('Stephanie', 'Murray', 'murray@brandeis.edu'), ('Bryan', 'Ingoglia', 'ingoglia@brandeis.edu'), ('Cynthia', 'Cohen', 'cecohen@brandeis.edu'), ('Robert', 'Duff', 'rduff@brandeis.edu'), ('Thomas A.', 'Souza', 'tsouza@brandeis.edu'), ('Ying-Ting', 'Lin', 'yting@brandeis.edu'), ('Charles', 'White', 'charlesw@brandeis.edu'), ('Mark', 'Berger', 'mberger@brandeis.edu'), ('Thomas', 'Hall', 'tohall@brandeis.edu'), ('Benjamin', 'Paulding', 'bpaulding@brandeis.edu'), ('Justin David', 'Casinghino', 'jdcas@brandeis.edu'), ('Thomas David', 'Little', 'thomaslittle@brandeis.edu'), ('Avinash', 'Singh', 'avinash@brandeis.edu'), ('Lucy', 'Goodhart', 'lgoodhar@brandeis.edu'), ('Kristen', 'Lucken', 'klucken@brandeis.edu'), ('Peter', 'Lupu', 'peterlupu@brandeis.edu'), ('Amber D', 'Spry', 'amberspry@brandeis.edu'), ('Peter', 'Gould', 'pgould@brandeis.edu'), ('Christopher K.', 'Gillespie', 'gillespi@brandeis.edu'), ('Peter', 'Mistark', 'pmistark@brandeis.edu'), ('Wei', 'Lu', 'luwei@brandeis.edu'), ('Jill Katherine', 'Stifano', 'jillstifano@brandeis.edu'), ('Alex P', 'Semendinger', 'alexsemendinger@brandeis.edu'), ('Shizhe', 'Liang', 'shizhe1011@brandeis.edu'), ('Gail', 'Peretti', 'gperetti@brandeis.edu'), ('McKee', 'Krumpak', 'mkrumpak@brandeis.edu'), ('Hisae', 'Fujiwara', 'hfujiwar@brandeis.edu'), ('Keith', 'Plaster', 'kplaster@brandeis.edu'), ('Cameron', 'Anderson', 'camerona@brandeis.edu'), ('Dmitry', 'Troyanovsky', 'dtroyanov@brandeis.edu'), ('Sarah', 'Lupis', 'slupis@brandeis.edu'), ('Michael Joel', 'Polito', 'mpolito@brandeis.edu'), ('Yoona', 'Lee', 'yoona@brandeis.edu'), ('Ryan', 'La Rochelle', 'larochel@brandeis.edu'), ('Sara', 'Hascal', 'hascal@brandeis.edu'), ('Aliza', 'Brosh', 'aliza@brandeis.edu'), ('Esther', 'Shorr', 'shorr@brandeis.edu'), ('Guy', 'Antebi', 'antebi@brandeis.edu'), ('Peter G', 'Anick', 'panick@brandeis.edu'), ('Marcus E.', 'Verhagen', 'verhagen@brandeis.edu'), ('Rosalind E.W.', 'Kabrhel', 'rkabrhel@brandeis.edu'), ('Benjamin R.', 'Wellner', 'wellner@brandeis.edu'), ('Brooke', 'Stewart', 'brookestewart@brandeis.edu'), ('Catherine', 'Della Lucia', 'cdellalucia@brandeis.edu'), ('Sheida', 'Soleimani', 'ssoleimani@brandeis.edu'), ('Ariel', 'Freiberg', 'afreiberg@brandeis.edu'), ('Hanan', 'Khashaba', 'khashaba@brandeis.edu'), ('Rachel', 'Moody', 'rachelmoody@brandeis.edu'), ('Deborah', 'Moriarty', 'dsull@brandeis.edu'), ('Brian', 'Swingle', 'bswingle@brandeis.edu'), ('Alejandro', 'Trelles', 'atrelles@brandeis.edu'), ('Jon', 'Schlesinger', 'jschlesinger@brandeis.edu'), ('Andrea', 'Segar', 'asegar@brandeis.edu'), ('Youngmin', 'Park', 'ypark@brandeis.edu'), ('Alexander', 'Jacobs', 'amjacobs@brandeis.edu'), ('Lindsey Genean', 'McWhorter', 'lindzgm@brandeis.edu'), ('Chandler', 'Fulton', 'fulton@brandeis.edu'), ('Brian', 'Fried', 'brianjfried@brandeis.edu'), ('Clementine C.', 'Faure-Bellaiche', 'cfaure@brandeis.edu'), ('Daniel', 'Mooney', 'mooneyd@brandeis.edu'), ('Sava', 'Berhané', 'sberhane@brandeis.edu'), ('Michael', 'McKay', 'mmckay@brandeis.edu'), ('Linda', 'Stoller', 'lstoller@brandeis.edu'), ('Gizem', 'Nemutlu', 'gnemutlu@brandeis.edu'), ('Geoffrey', 'Clarke', 'geoffclarke@brandeis.edu'), ('Nelson', 'Sa', 'nesa@brandeis.edu'), ('Amelia', 'Hawkins', 'aaehawkins@brandeis.edu'), ('Tymon', 'Słoczyński', 'tslocz@brandeis.edu'), ('Mahsa', 'Akbari', 'makbari@brandeis.edu'), ('Marie Amanda', 'Guimbeau', 'amanda2016@brandeis.edu'), ('Lynn Elaine', 'Browne', 'lebrowne@brandeis.edu'), ('Iraklis', 'Tsekourakis', 'tsekourakis@brandeis.edu'), ('William J.', 'Chalmus', 'wchalmus@brandeis.edu'), ('Sonia', 'Almeida', 'salmeida@brandeis.edu'), ('Anny T.', 'Fenton', 'annyfenton@brandeis.edu'), ('Richard', 'Schroeder', 'rschroeder@brandeis.edu'), ('Juan Sebastian', 'Ospina Leon', 'ospinaleon@brandeis.edu'), ('Elanah', 'Uretsky', 'euretsky@brandeis.edu'), ('Daniel', 'Breen', 'dbreen91@brandeis.edu'), ('Gary', 'Samore', 'gsamore@brandeis.edu'), ('Qi', 'Li', 'liqi@brandeis.edu'), ('Muna', 'Guvenc', 'guvenc@brandeis.edu'), ('Chen', 'Chen', 'chenchen@brandeis.edu'), ('Maria', 'Madison', 'mtm@brandeis.edu'), ('Shoniqua D', 'Roach', 'shoniquaroach@brandeis.edu'), ('Simon T', 'Huynh', 'sthuynh95@brandeis.edu'), ('Sharon', 'Fray-Witzer', 'fraywitz@brandeis.edu'), ('Lauren', 'Santini', 'lsantini@brandeis.edu'), ('Sonja', 'Krstic', 'skrstic@brandeis.edu'), ('Zachary', 'Albert', 'zalbert@brandeis.edu'), ('Douglas L', 'Smith', 'dlsmith@brandeis.edu'), ('Carina', 'Ray', 'cer15@brandeis.edu'), ('Isaiah', 'Wooden', 'wooden@brandeis.edu'), ('Neil', 'Swidey', 'neilswidey@brandeis.edu'), ('Grace', 'Talusan', 'gracet01@brandeis.edu'), ('Beth A', 'Clark', 'bclark@brandeis.edu'), ('Eva', 'Heinrich', 'evaheinrich@brandeis.edu'), ('Matthew', 'Okazaki', 'matthewokazaki@brandeis.edu'), ('Eileen', 'Maxson', 'eileenmaxson@brandeis.edu'), ('Alexander', 'Kaye', 'alexanderkaye@brandeis.edu'), ('Galit', 'Eizman', 'eizmang@brandeis.edu'), ('Steven', 'Sass', 'stevensass@brandeis.edu'), ('Toni', 'Shapiro-Phim', 'tonishapiro@brandeis.edu'), ('Janet', 'Boguslaw', 'boguslaw@brandeis.edu'), ('Francesco', 'Vischi', 'francescovischi@brandeis.edu'), ('Steven', 'Wilson', 'stevenwilson@brandeis.edu'), ('David S', 'Katz', 'davidkatz@brandeis.edu'), ('Laura', 'Jockusch', 'jockusch@brandeis.edu'), ('Bofang', 'Li', 'bofangli@brandeis.edu'), ('Douglas', 'Kirshen', 'dkirshen@brandeis.edu'), ('Katrin', 'Fischer', 'ktrnfischer@brandeis.edu'), ('Nayoung', 'Kim', 'nykim@brandeis.edu'), ('Ryan', 'Hitchcock', 'ryanhitchcock@brandeis.edu'), ('Yi', 'He', 'yyhe@brandeis.edu'), ('Marsha', 'Nourse', 'mnourse@brandeis.edu'), ('Elissa', 'Jacobs', 'ekjacobs@brandeis.edu'), ('Joshua', 'Lederman', 'jlederman@brandeis.edu'), ('Maham', 'Ayaz', 'mayaz@brandeis.edu'), ('Lisa', 'Fishbayn Joffe', 'fishbayn@brandeis.edu'), ('Hao', 'Xu', 'haohxu@brandeis.edu'), ('Chi', 'Ting', 'chiting@brandeis.edu'), ('Alexis', 'Brown', 'alexisbrown@brandeis.edu'), ('Alyssa', 'Fassett-Carman', 'afassettcarman@brandeis.edu'), ('Joshua', 'Williams', 'jdmwilliams@brandeis.edu'), ('Brandon', 'Callender', 'bcallender@brandeis.edu'), ('Paloma', 'Valenzuela', 'pvalenzuela@brandeis.edu'), ('Chih-Chien', 'Hsieh', 'cchsieh@brandeis.edu'), ('Soham', 'Patel', 'sohampatel@brandeis.edu'), ('Mika Rachel', 'Hackner', 'mhackner@brandeis.edu'), ('Alice A', 'Noble', 'no_email'), ('Darlene', 'Brooks Hedstrom', 'brookshedstrom@brandeis.edu'), ('Matthew', 'Newman', 'mmn@brandeis.edu'), ('Jillian', 'Stinchcomb', 'jstinchcomb@brandeis.edu'), ('Ryan', 'Glasnovich', 'glasnovich@brandeis.edu'), ('Charlotte', 'Goudge', 'cgoudge@brandeis.edu'), ('Isar', 'Godreau', 'isargodreau@brandeis.edu'), ('Kimberly', 'Chase', 'kfraser@brandeis.edu'), ('Bjorn', 'Markeson', 'bmarkeson@brandeis.edu'), ('Raul Arturo', 'Ramos', 'rramos@brandeis.edu'), ('Reto', 'Trappitsch', 'reto@brandeis.edu'), ('Mark', 'Feeney', 'mfeeney@brandeis.edu'), ('Ann', 'Silvio', 'asilvio@brandeis.edu'), ('Mark', 'Dellelo', 'dellelo@brandeis.edu'), ('Samantha', 'Leonard', 'sleonard@brandeis.edu'), ('Alexa', 'Miller', 'alexam@brandeis.edu'), ('Davide', 'Ianni', 'davideianni@brandeis.edu'), ('Sharon Pucker', 'Rivo', 'rivo@brandeis.edu'), ('Leah', 'Gordon', 'leahgordon@brandeis.edu'), ('Rima', 'Farah', 'rimaf@brandeis.edu'), ('Eyal', 'Tal', 'eyaltal@brandeis.edu'), ('Maria J', 'Duran', 'mduran@brandeis.edu'), ('Jennifer Carol', 'LaFleur', 'jennylafleur@brandeis.edu'), ('Ziva R', 'Hassenfeld', 'ztreimer@brandeis.edu'), ('Keren', 'McGinity', 'kerenm@brandeis.edu'), ('DOUGLAS', 'BLUE', 'douglasblue@brandeis.edu'), ('Nick', 'French', 'nickfrench@brandeis.edu'), ('Sally', 'Warner', 'sallywarner@brandeis.edu'), ('Lauren', 'Woods', 'laurenwoods@brandeis.edu'), ('Ann Gavin', 'Ward', 'agward@brandeis.edu'), ('James', 'Howard', 'jameshoward@brandeis.edu'), ('James Xinde', 'Ji', 'xji@brandeis.edu'), ('Rob', 'Anderson', 'robanderson@brandeis.edu'), ('Joyce', 'Rigal', 'jrigal@brandeis.edu'), ('Sascha E', 'Cohen', 'saaschec@brandeis.edu'), ('Shujian', 'Chen', 'shujianchen@brandeis.edu'), ('Sarah', 'Mayorga', 'mayorga@brandeis.edu'), ('Janna Moskin', 'Greenberg', 'jannagreenberg@brandeis.edu'), ('Catherine', 'Scott', 'catherinescott@brandeis.edu'), ('Rahul', 'Krishna', 'rahulkrishna@brandeis.edu'), ('William', 'Wittenberg', 'bwittenberg@brandeis.edu'), ('Courtney Pina', 'Miller', 'cpmiller@brandeis.edu'), ('Param', 'Roychoudhury', 'proychoudhury@brandeis.edu'), ('Debbie', 'Berechman', 'dberech@brandeis.edu'), ('David', 'Tybor', 'dtybor01@brandeis.edu'), ('Seyed Moaven', 'Razavi', 'mrazavi@brandeis.edu'), ('Allyala Krishna', 'Nandakumar', 'aknkumar@brandeis.edu'), ('Erin Meredith', 'Bazzell', 'embazzell@brandeis.edu'), ('Isabella', 'Jean', 'ijean@brandeis.edu'), ('Susanna', 'Flug-Silva', 'flugsilva@brandeis.edu'), ('Susan', 'Eaton', 'seaton@brandeis.edu'), ('Anaide Laeticia', 'Nahikian', 'anahikian@brandeis.edu'), ('David A.', 'Steele', 'dsteele@brandeis.edu'), ('Jose Antonio', 'Suaya Grezzi', 'jsuaya@brandeis.edu'), ('Abdullah', 'Baaj', 'no_email'), ('Can', 'Erbil', 'cerbil@brandeis.edu'), ('Robert', 'Dunigan', 'dunigan@brandeis.edu'), ('Sharon', 'Reif', 'reif@brandeis.edu'), ('Jennifer', 'Tansey', 'jennifertansey@brandeis.edu'), ('Richard', 'Parmentier', 'parmenti@brandeis.edu'), ('Elizabeth', 'Terry', 'lterry@brandeis.edu'), ('Alan', 'Berger', 'berger@brandeis.edu'), ('Barbara', 'Collins', 'bcoll0001@brandeis.edu'), ('Joshua', 'Ellsworth', 'jwe@brandeis.edu'), ('Desiree', 'Phillips', 'dphillips@brandeis.edu'), ('Michael', 'Cassidy', 'mcassidy@brandeis.edu'), ('Kimberlee', 'Schumacher', 'kschumacher@brandeis.edu'), ('Sandra', 'Cha', 'cha@brandeis.edu'), ('Stephen', 'Cecchetti', 'cecchett@brandeis.edu'), ('Robert', 'Podorefsky', 'rpod@brandeis.edu'), ('Christopher', 'Alt', 'calt1@brandeis.edu'), ('Pegaret', 'Pichler', 'ppichler@brandeis.edu'), ('Benjamin', 'Koskinen', 'benkosk@brandeis.edu'), ('Jean-Paul', \"L'Huillier\", 'jpl@brandeis.edu'), ('Yoosik', 'Kim', 'yoosik@brandeis.edu'), ('Kenneth', 'Faro', 'kenfaro@brandeis.edu'), ('Grant A', 'Ritter', 'ritter@brandeis.edu'), ('Gary L.', 'Gaumer', 'gaumer@brandeis.edu'), ('William', 'Cowen', 'tcowen@brandeis.edu'), ('Alexandra', 'Pineros-Shields', 'apineros@brandeis.edu'), ('Eugene B.', 'Kogan', 'ebkogan@brandeis.edu'), ('Peter', 'Dixon', 'pdixon@brandeis.edu'), ('Benjamin', 'Mahnke', 'benmahnke@brandeis.edu'), ('Annie Marie', 'Grover', 'agrover@brandeis.edu'), ('Sarah', 'LaMorey', 'slamorey@brandeis.edu'), ('Adam', 'Towvim', 'atowvim@brandeis.edu'), ('Vincent A', 'Sutera', 'sutera@brandeis.edu'), ('Pauri', 'Pandian', 'pauripandian@brandeis.edu'), ('Derek C.', 'Carlson', 'dcarlson@brandeis.edu'), ('Claudia', 'Trevor-Wright', 'ctrevorwright@brandeis.edu'), ('Doug', 'Chatterton', 'chatterton@brandeis.edu'), ('Lauren', 'Jordahl', 'ljordahl@brandeis.edu'), ('Anne', 'Culhane', 'aculhane@brandeis.edu'), ('Madeleine', 'Witwer-Dukes', 'mwitwerdukes@brandeis.edu'), ('Stephanie', 'Grimes', 'ruark@brandeis.edu'), ('Chen-Hong Tony', 'Chen', 'tchen4315@brandeis.edu'), ('Sarah', 'Berg', 'sjberg@brandeis.edu'), ('Esther Ruth', 'Brandon', 'brandone@brandeis.edu'), ('Zachariah', 'Hicks', 'zhicks@brandeis.edu'), ('Nick', 'Athanasopoulos', 'nathanasopoulos@brandeis.edu'), ('Michael G.', 'Matt', 'mmatt@brandeis.edu'), ('Nikkola Erin', 'Carmichael', 'nikkola@brandeis.edu'), ('Judith A.', 'Jackson', 'jjackson@brandeis.edu'), ('Marianna L.', 'Bassham', 'mlbassham@brandeis.edu'), ('Rebecca Katherine', 'Rohrlich', 'rebeccarohrlich@brandeis.edu'), ('Ian A', 'Montague', 'ianmontague@brandeis.edu'), ('Jiajie', 'Zheng', 'zhengjiajie@brandeis.edu'), ('Te', 'Cao', 'twcao@brandeis.edu'), ('Ray', 'Maresca', 'raymondmaresca@brandeis.edu'), ('Ying', 'Zhang', 'yingzhang@brandeis.edu'), ('Benjamin R.', 'Shiller', 'shiller@brandeis.edu'), ('Yaxuan', 'Wen', 'yaxuanwen@brandeis.edu'), ('Peter', 'May', 'pmay@brandeis.edu'), ('Anthony I', 'Lipscomb', 'zalipsco@brandeis.edu'), ('Sharon Barbieri', 'Thomas', 'sathomas@brandeis.edu'), ('Yang', 'Sun', 'yangs@brandeis.edu'), ('Matthew F.', 'Petit', 'mpetit@brandeis.edu'), ('Yinchu', 'Zhu', 'yinchuzhu@brandeis.edu'), ('Michelle', 'Hoover', 'mdhoover@brandeis.edu'), ('Jonathan', 'DeCoster', 'decoster@brandeis.edu'), ('Berislav', 'Marusic', 'marusic@brandeis.edu'), ('Tarakaram', 'Gollamudi', 'gtr@brandeis.edu'), ('Annie', 'Cole', 'anniecole@brandeis.edu'), ('Arnulf', 'Becker', 'no_email'), ('Hyongse', 'Yoo', 'hyungse87@brandeis.edu'), ('Joy', 'Von Steiger', 'jvonst@brandeis.edu'), ('Stan', 'Rullman', 'stanrullman@brandeis.edu'), ('Matthew Paul', 'Heck', 'mheck@brandeis.edu'), ('Charles', 'Freilich', 'charlesfreilich@brandeis.edu'), ('Adam B.', 'Jaffe', 'ajaffe@brandeis.edu'), ('Lawrence', 'Strauss', 'straussl@brandeis.edu'), ('A.J.', 'Murphy', 'ajmurphy@brandeis.edu'), ('Sarah Beth', 'Sortino', 'sbsortino@brandeis.edu'), ('Bridget Rose', 'Kelleher', 'brkelleher@brandeis.edu'), ('Robert B.', 'Cochran', 'rcochran@brandeis.edu'), ('Alaa Hani', 'Murad', 'amurad@brandeis.edu'), ('Susann', 'Vaeth', 'slvaeth@brandeis.edu'), ('Carey', 'Slaeker', 'cslaeker@brandeis.edu'), ('Gordon P', 'Ruesch', 'ruesch@brandeis.edu'), ('Amanda', 'Jacobson', 'amandajacobson@brandeis.edu'), ('Martha', 'Lagace', 'marthalagace@brandeis.edu'), ('Brenda', 'Ng', 'brenng@brandeis.edu'), ('Zhaojie', 'Zhang', 'zhaojiezhang@brandeis.edu'), ('Jesus Karol', 'Estrada', 'no_email'), ('Paul Daniel', 'Hestand', 'pdhestand@brandeis.edu'), ('Mary', 'Caraccioli', 'mcaraccioli@brandeis.edu'), ('Michael', 'Storiale', 'mstoriale@brandeis.edu'), ('Hassan', 'Jafri', 'hjafri@brandeis.edu'), ('Daniel Adam', 'Flanagan', 'danflan@brandeis.edu'), ('Joseph A', 'Dalessandro', 'jdalessa@brandeis.edu'), ('Melissa', 'Kane', 'melissakane@brandeis.edu'), ('David', 'Swiniarski', 'davidswiniarski@brandeis.edu'), ('Patricia F.', 'Steiner', 'pattsteiner@brandeis.edu'), ('Ann', 'Conway', 'anconway@brandeis.edu'), ('Nadeem', 'Malik', 'nmalik88@brandeis.edu'), ('Joseph', 'Richard', 'josephrichard@brandeis.edu'), ('Dragan', 'Grigorjev', 'dgrigorjev@brandeis.edu'), ('Annie E', 'Shebanow', 'ashebanow@brandeis.edu'), ('Ross', 'Morrone', 'rmorrone@brandeis.edu'), ('Travis', 'Dawry', 'tdawry@brandeis.edu'), ('Paul', 'Dooley', 'pdooley@brandeis.edu'), ('Steven', 'Freedman', 'sfreedma@brandeis.edu'), ('J. Erik', 'Hemdal', 'ehemdal@brandeis.edu'), ('David', 'Lumerman', 'dlumerman@brandeis.edu'), ('Douglas S.', 'Brams', 'dbrams@brandeis.edu'), ('Sarah', 'Pagliacio', 'spagliaccio@brandeis.edu'), ('Todd', 'Chapin', 'toddchapin@brandeis.edu'), ('Sean', 'Milligan', 'milligas@brandeis.edu'), ('Daniel', 'Pineo', 'dpineo@brandeis.edu'), ('Timothy', 'Song', 'timothysong@brandeis.edu'), ('Andrey', 'Sivachenko', 'asivache@brandeis.edu'), ('Aswin', 'Pranam', 'apranam@brandeis.edu'), ('Garrett', 'Gillin', 'ggillin@brandeis.edu'), ('Anthony', 'Francis', 'anthonyfrancis@brandeis.edu'), ('Carl E.', 'Moore', 'cemoore@brandeis.edu'), ('Michael', 'Noonan', 'noonze@brandeis.edu'), ('Derek E.', 'Brink', 'dbrink@brandeis.edu'), ('Clarke L', 'Cummings', 'clcummings@brandeis.edu'), ('Javed', 'Ikbal', 'jikbal@brandeis.edu'), ('Alfred', 'Williams', 'alwilliams@brandeis.edu'), ('David T.', 'Priddle', 'dpriddle@brandeis.edu'), ('Cheryl', 'Coleman', 'ccoleman@brandeis.edu'), ('Kevan M.', 'Kivlan', 'kkivl0001@brandeis.edu'), ('Keishalee', 'Shaw', 'kshaw@brandeis.edu'), ('Christopher', 'Andrews', 'candrews@brandeis.edu'), ('Vitaly', 'Yurik', 'vyurik@brandeis.edu'), ('Ari', 'Davidow', 'adavi0001@brandeis.edu'), ('Kathryn', 'Peditto', 'kpeditto@brandeis.edu'), ('Diana', 'Hubbard', 'dianahubbard@brandeis.edu'), ('Janet L.', 'Paulsen', 'jpaulsen@brandeis.edu'), ('Imran', 'Khan', 'imrankhan@brandeis.edu'), ('Gretchen', 'Ehrenkaufer', 'gehrenk@brandeis.edu'), ('Alexandra', 'Maertens', 'amaertens@brandeis.edu'), ('Jeffrey M', 'Warrington', 'jwarrington@brandeis.edu'), ('Khadija', 'Khartit', 'khadijakhartit@brandeis.edu'), ('Lauren', 'Hindman', 'lhindman@brandeis.edu'), ('Yoni', 'Dvorkis', 'yonidvorkis@brandeis.edu'), ('Greg', 'Robinson', 'grgrobinson@brandeis.edu'), ('Justin L', 'Boswell', 'juboswell@brandeis.edu'), ('Alain', 'Marcuse', 'amarcuse@brandeis.edu'), ('Kimberlee', 'Round', 'kround@brandeis.edu'), ('Carrie Lewis', 'Miller', 'clmiller@brandeis.edu'), ('Ken', 'Brumer', 'kenbrumer@brandeis.edu'), ('Debra', 'Michalides', 'dmichalides@brandeis.edu'), ('Lisa', 'Spencer', 'lisaspencer@brandeis.edu'), ('Jennifer Sullivan', 'McGinn', 'jmcginn@brandeis.edu'), ('Alan', 'Cheng', 'acheng@brandeis.edu'), ('Michael', 'Salem', 'mikesalem@brandeis.edu'), ('Chiwai', 'Chow', 'chiwaichow@brandeis.edu'), ('Sarah', 'McMaster', 'smcmaster@brandeis.edu'), ('Deborah Wheaton', 'Hemdal', 'dhemdal@brandeis.edu'), ('Robert Elliot', 'Rue', 'professorrue@brandeis.edu'), ('Elisabeth', 'Stucklen', 'stucklen@brandeis.edu'), ('Jing', 'Qi', 'jingqi@brandeis.edu'), ('Margaret', 'Stanton', 'mstanton580@brandeis.edu'), ('Jennifer', 'Shin', 'jennifershin@brandeis.edu'), ('Stephanie', 'Wallace', 'stephwallace@brandeis.edu'), ('Kirk', 'Lipscomb', 'kirklipscomb@brandeis.edu'), ('Andrew', 'Schall', 'aschall@brandeis.edu'), ('Candra', 'Gill', 'ckgill@brandeis.edu'), ('Elizabeth', 'Rosenzweig', 'erosenzweig@brandeis.edu'), ('Ken', 'Udas', 'kenudas@brandeis.edu'), ('Elif', 'Sisli Ciamarra', 'esisli@brandeis.edu'), ('Xin', 'Wang', 'xinwang@brandeis.edu'), ('Shayna', 'Weiss', 'shaynaw@brandeis.edu'), ('Nili', 'Pearlmutter', 'nilip@brandeis.edu'), ('Aviva', 'Scheur', 'ascheur@brandeis.edu'), ('Chandra', 'Joseph-Lacet', 'chandraj@brandeis.edu'), ('Karen', 'Smith', 'klsmith@brandeis.edu'), ('Roberta N.', 'Clarke', 'rclarke@brandeis.edu'), ('Alisha', 'Nguyen', 'alishanguyen@brandeis.edu'), ('Michael J.', 'Vela', 'mjvela@brandeis.edu'), ('Mustafa', 'Yatin', 'myatin@brandeis.edu'), ('Michael', 'Golitsyn', 'golitsyn@brandeis.edu'), ('Charlotte Rose', 'Powley', 'cpowley@brandeis.edu'), ('Siqi', 'Liu', 'sliu2@brandeis.edu'), ('Qi', 'He', 'zjucamu@brandeis.edu'), ('Mengnan(Cliff)', 'Zhu', 'mengnansunny@brandeis.edu'), ('Audrey Hapsari Setyorini', 'Soedjito', 'asoed@brandeis.edu'), ('Yufei', 'Zhang', 'zyfdg@brandeis.edu'), ('Kewen', 'Wang', 'swterry@brandeis.edu'), ('Casey', 'Rufener', 'crufener@brandeis.edu'), ('Richard', 'Williams', 'richardwilliams@brandeis.edu'), ('Rebecca', 'Rotti', 'rrotti@brandeis.edu'), ('Kyeongah', 'Lee', 'kalee@brandeis.edu'), ('Mah', 'Ebrahimi', 'mebrahimi@brandeis.edu'), ('Alexander Thomas', 'Herbert', 'ath459@brandeis.edu'), ('Toke', 'Fosgaard', 'toke@brandeis.edu'), ('Michael', 'Hedegaard', 'no_email'), ('Franca', 'Marini', 'no_email'), ('Roberto', 'Fineschi', 'strackstrack@brandeis.edu'), ('Anne M', 'Laski', 'alaski@brandeis.edu'), ('Alyssa Stalsberg', 'Canelli', 'acanelli@brandeis.edu'), ('Mohammed', 'AlMehdar', 'mmehdar@brandeis.edu'), ('Selene', 'Campion', 'scampion@brandeis.edu'), ('Nataliia', 'Laas', 'natalialaas@brandeis.edu')]\n"
     ]
    }
   ],
   "source": [
    "instructors = []\n",
    "[instructors.append(course['instructor']) for course in courses if course.get('instructor') not in instructors]\n",
    "print(instructors)"
   ]
  },
  {
   "cell_type": "code",
   "execution_count": 11,
   "metadata": {},
   "outputs": [
    {
     "name": "stdout",
     "output_type": "stream",
     "text": [
      "['Readings in Jewish Professional Leadership', 'Readings in Jewish Professional Leadership', 'Readings in Jewish Professional Leadership', 'Readings in Jewish Professional Leadership', 'Readings in Jewish Professional Leadership', 'Readings in Jewish Professional Leadership', 'Readings in Jewish Professional Leadership', 'Readings in Jewish Professional Leadership', 'Readings in Jewish Professional Leadership', 'Readings in Jewish Professional Leadership']\n"
     ]
    }
   ],
   "source": [
    "# Elizabeth 5i\n",
    "consent = []\n",
    "[consent.append(course['name']) for course in courses if 'Consent' in course['status_text']]\n",
    "print(consent[:10])"
   ]
  },
  {
   "cell_type": "code",
   "execution_count": 12,
   "metadata": {},
   "outputs": [
    {
     "name": "stdout",
     "output_type": "stream",
     "text": [
      "['Global Dexterity', 'Information Visualization', 'Sales and Sales Management', 'Corporate Financial Modeling', 'Technical Analysis', 'Digital Fabrication with Robotics', 'Python and Applications to Business Analytics', 'Analyzing Big Data I', 'Python and Applications to Business Analytics II', 'Jewish Community and Jewish Identity']\n"
     ]
    }
   ],
   "source": [
    "# Elizabeth 5i\n",
    "noconsent = []\n",
    "[noconsent.append(course['name']) for course in courses if 'Consent' not in course['status_text']]\n",
    "print(noconsent[:10])"
   ]
  },
  {
   "cell_type": "code",
   "execution_count": 13,
   "metadata": {},
   "outputs": [
    {
     "name": "stdout",
     "output_type": "stream",
     "text": [
      "There are: 37 Math Teachers in total\n",
      "There are: 8 Math Teachers teaching in 2020\n"
     ]
    }
   ],
   "source": [
    "#Leora 5i - Total Number of students taking Math Courses total and in 2020\n",
    "a =set(course[('instructor')] for course in courses if \"MATH\" in course['subject'])\n",
    "b =tuple(course for course in courses if \"MATH\" in course['subject'])\n",
    "c = set(course['instructor'] for course in b if '20' in course['coursenum'])\n",
    "len(a)\n",
    "print(\"There are: \"+ str(len(a))+\" Math Teachers in total\")\n",
    "print(\"There are: \"+ str(len(c))+\" Math Teachers teaching in 2020\")\n"
   ]
  },
  {
   "cell_type": "code",
   "execution_count": 14,
   "metadata": {},
   "outputs": [
    {
     "name": "stdout",
     "output_type": "stream",
     "text": [
      "0\n"
     ]
    }
   ],
   "source": [
    "#Aarthi 5c\n",
    "import statistics\n",
    "def medianSize():\n",
    "    coursesize =[]\n",
    "\n",
    "    for course in courses:\n",
    "       coursesize.append(course['enrolled'])\n",
    "       coursesize.sort()\n",
    "    print((statistics.median(coursesize)))\n",
    "    \n",
    "medianSize()    "
   ]
  },
  {
   "cell_type": "code",
   "execution_count": 21,
   "metadata": {},
   "outputs": [
    {
     "name": "stdout",
     "output_type": "stream",
     "text": [
      "[('BIOL', 3085), ('BUS', 2766), ('HWL', 2734), ('CHEM', 2322), ('ECON', 2315), ('COSI', 2223), ('MATH', 1785), ('PSYC', 1704), ('ANTH', 1144), ('ENG', 1109)]\n"
     ]
    }
   ],
   "source": [
    "#Aarthi 5d\n",
    "def sortedTuples():\n",
    "    subjectList = []\n",
    "    numCoursesList = []\n",
    "  \n",
    "   \n",
    "   #for course in courses:\n",
    "    gather = dict()\n",
    "    for course in courses:\n",
    "        if course['subject'] in gather:\n",
    "            num = gather[course['subject']]\n",
    "            gather[course['subject']] = num+course['enrolled']\n",
    "        else:\n",
    "            gather[course['subject']] = course['enrolled']\n",
    "    subjects = list(gather)\n",
    "    courseNum =[]\n",
    "    for subject in gather:\n",
    "        courseNum.append(gather[subject])\n",
    "    subjectData = sorted((list(zip(subjects, courseNum))), key=lambda x:x[1])[-11:-1]\n",
    "    print(list(reversed(subjectData)))\n",
    "           \n",
    "sortedTuples()"
   ]
  },
  {
   "cell_type": "code",
   "execution_count": 16,
   "metadata": {},
   "outputs": [
    {
     "name": "stdout",
     "output_type": "stream",
     "text": [
      "[('HIST', 498), ('PSYC', 417), ('NEUR', 403), ('BCHM', 296), ('PHYS', 288), ('HS', 274), ('COSI', 272), ('MUS', 266), ('ENG', 265), ('BCBP', 263)]\n"
     ]
    }
   ],
   "source": [
    "#Aarthi 5e\n",
    "#Leora helped figure this out. This was a team effort\n",
    "def sortedTuples():\n",
    "    subjectList = []\n",
    "    numCoursesList = []\n",
    "  \n",
    "   \n",
    "   #for course in courses:\n",
    "    gather = dict()\n",
    "    for course in courses:\n",
    "        if course['subject'] in gather:\n",
    "            num = gather[course['subject']]\n",
    "            gather[course['subject']] = num+1\n",
    "        else:\n",
    "            gather[course['subject']] =1\n",
    "    subjects = list(gather)\n",
    "    courseNum =[]\n",
    "    for subject in gather:\n",
    "        courseNum.append(gather[subject])\n",
    "    subjectData = sorted((list(zip(subjects, courseNum))), key=lambda x:x[1])[-11:-1]\n",
    "    print(list(reversed(subjectData)))\n",
    "           \n",
    "sortedTuples()\n"
   ]
  },
  {
   "cell_type": "code",
   "execution_count": 17,
   "metadata": {},
   "outputs": [
    {
     "name": "stdout",
     "output_type": "stream",
     "text": [
      "[(('Kene Nathan', 'Piasta', 'kpiasta@brandeis.edu'), 49), (('Leslie Claire', 'Griffith', 'griffith@brandeis.edu'), 49), (('Paul', 'DiZio', 'dizio@brandeis.edu'), 47), (('Seth', 'Fraden', 'fraden@brandeis.edu'), 47), (('Sacha', 'Nelson', 'nelson@brandeis.edu'), 47), (('John', 'Lisman', 'lisman@brandeis.edu'), 46), (('Robert W', 'Sekuler', 'sekuler@brandeis.edu'), 45), (('Donald B.', 'Katz', 'dbkatz@brandeis.edu'), 45), (('Michael', 'Rosbash', 'rosbash@brandeis.edu'), 45), (('Arthur', 'Wingfield', 'wingfiel@brandeis.edu'), 44)]\n"
     ]
    }
   ],
   "source": [
    "#Aarthi 5f\n",
    "def sortedTuples():\n",
    "    subjectList = []\n",
    "    numCoursesList = []\n",
    "  \n",
    "   \n",
    "    #for course in courses:\n",
    "    gather = dict()\n",
    "    for course in courses:\n",
    "        if course['instructor'] in gather:\n",
    "            num = gather[course['instructor']]\n",
    "            gather[course['instructor']] = num+1\n",
    "        else:\n",
    "            gather[course['instructor']] =1\n",
    "    subjects = list(gather)\n",
    "    courseNum =[]\n",
    "    for subject in gather:\n",
    "        courseNum.append(gather[subject])\n",
    "    subjectData = sorted((list(zip(subjects, courseNum))), key=lambda x:x[1])[-11:-1]\n",
    "    print(list(reversed(subjectData)))\n",
    "        \n",
    "           \n",
    "sortedTuples()\n"
   ]
  },
  {
   "cell_type": "code",
   "execution_count": 22,
   "metadata": {},
   "outputs": [
    {
     "name": "stdout",
     "output_type": "stream",
     "text": [
      "[(('Kene Nathan', 'Piasta', 'kpiasta@brandeis.edu'), 583), (('Stephanie', 'Murray', 'murray@brandeis.edu'), 515), (('Milos', 'Dolnik', 'dolnik@brandeis.edu'), 489), (('Maria', 'de Boef Miara', 'mmiara@brandeis.edu'), 450), (('Bryan', 'Ingoglia', 'ingoglia@brandeis.edu'), 439), (('Rachel V.E.', 'Woodruff', 'woodruff@brandeis.edu'), 422), (('Timothy J', 'Hickey', 'tjhickey@brandeis.edu'), 411), (('Daniel', 'Breen', 'dbreen91@brandeis.edu'), 375), (('Melissa', 'Kosinski-Collins', 'kosinski@brandeis.edu'), 365), (('Claudia', 'Novack', 'novack@brandeis.edu'), 355), (('Antonella', 'DiLillo', 'dilant@brandeis.edu'), 342), (('Jon', 'Chilingerian', 'chilinge@brandeis.edu'), 330), (('Ahmad', 'Namini', 'anamini@brandeis.edu'), 327), (('Iraklis', 'Tsekourakis', 'tsekourakis@brandeis.edu'), 316), (('Geoffrey', 'Clarke', 'geoffclarke@brandeis.edu'), 315), (('Peter', 'Mistark', 'pmistark@brandeis.edu'), 277), (('Brenda', 'Anderson', 'banders@brandeis.edu'), 275), (('Colleen', 'Hitchcock', 'hitchcock@brandeis.edu'), 261), (('Scott A.', 'Redenius', 'redenius@brandeis.edu'), 259), (('Seth', 'Fraden', 'fraden@brandeis.edu'), 250)]\n"
     ]
    }
   ],
   "source": [
    "#Aarthi 5g\n",
    "def sortedTuples():\n",
    "    subjectList = []\n",
    "    numCoursesList = []\n",
    "  \n",
    "   \n",
    "    #for course in courses:\n",
    "    gather = dict()\n",
    "    for course in courses:\n",
    "        if course['instructor'] in gather:\n",
    "            num = gather[course['instructor']]\n",
    "            gather[course['instructor']] = num+course['enrolled']\n",
    "        else:\n",
    "            gather[course['instructor']] =course['enrolled']\n",
    "    subjects = list(gather)\n",
    "    courseNum =[]\n",
    "    for subject in gather:\n",
    "        courseNum.append(gather[subject])\n",
    "    subjectData = sorted((list(zip(subjects, courseNum))), key=lambda x:x[1])[-21:-1]\n",
    "    print(list(reversed(subjectData)))\n",
    "sortedTuples()"
   ]
  },
  {
   "cell_type": "code",
   "execution_count": 33,
   "metadata": {},
   "outputs": [
    {
     "name": "stdout",
     "output_type": "stream",
     "text": [
      "{'HRNS': {'coursenum': 3}, 'BUS': {'coursenum': 6}, 'ECON': {'coursenum': 14}, 'FIN': {'coursenum': 6}, 'HS': {'coursenum': 32}, 'ANTH': {'coursenum': 6}, 'CHEM': {'coursenum': 21}, 'PHIL': {'coursenum': 5}, 'HIST': {'coursenum': 3}, 'PSYC': {'coursenum': 6}, 'WGS': {'coursenum': 1}, 'ENG': {'coursenum': 1}, 'POL': {'coursenum': 7}, 'BIOL': {'coursenum': 12}, 'NBIO': {'coursenum': 29}, 'CHIN': {'coursenum': 19}, 'MATH': {'coursenum': 5}, 'MUS': {'coursenum': 4}, 'SOC': {'coursenum': 13}, 'BCBP': {'coursenum': 10}, 'BIOT': {'coursenum': 3}, 'ED': {'coursenum': 19}, 'CLAS': {'coursenum': 39}, 'COMH': {'coursenum': 0}, 'COSI': {'coursenum': 9}, 'GRK': {'coursenum': 6}, 'LAT': {'coursenum': 8}, 'THA': {'coursenum': 14}, 'PHYS': {'coursenum': 12}, 'NEJS': {'coursenum': 0}, 'NEUR': {'coursenum': 1}, 'PMED': {'coursenum': 0}, 'ESL': {'coursenum': 6}, 'BUS/FIN': {'coursenum': 9}, 'BUS/ECON': {'coursenum': 16}, 'ECON/FIN': {'coursenum': 24}, 'HS/POL': {'coursenum': 6}, 'HWL': {'coursenum': 784}, 'GER': {'coursenum': 7}, 'JAPN': {'coursenum': 6}, 'KOR': {'coursenum': 0}, 'RUS': {'coursenum': 11}, 'ITAL': {'coursenum': 11}, 'HISP': {'coursenum': 21}, 'FREN': {'coursenum': 6}, 'IGS': {'coursenum': 4}, 'AMST': {'coursenum': 16}, 'AAAS': {'coursenum': 2}, 'BCHM': {'coursenum': 13}, 'BIPH': {'coursenum': 1}, 'EAS': {'coursenum': 1}, 'COML': {'coursenum': 8}, 'SAS': {'coursenum': 14}, 'YDSH': {'coursenum': 0}, 'SJSP': {'coursenum': 7}, 'REL': {'coursenum': 7}, 'PAX': {'coursenum': 1}, 'LGLS': {'coursenum': 23}, 'QBIO': {'coursenum': 11}, 'BIBC': {'coursenum': 26}, 'HSSP': {'coursenum': 10}, 'ENVS': {'coursenum': 6}, 'ECS': {'coursenum': 0}, 'FILM': {'coursenum': 0}, 'FA': {'coursenum': 6}, 'HOID': {'coursenum': 0}, 'IIM': {'coursenum': 1}, 'CAST': {'coursenum': 3}, 'IMES': {'coursenum': 0}, 'LALS': {'coursenum': 0}, 'LING': {'coursenum': 7}, 'JOUR': {'coursenum': 1}, 'HBRW': {'coursenum': 11}, 'NPSY': {'coursenum': 15}, 'ARBC': {'coursenum': 5}, 'INT': {'coursenum': 39}, 'CA': {'coursenum': 20}, 'EBIO': {'coursenum': 0}, 'AAAS/WGS': {'coursenum': 23}, 'HUM': {'coursenum': 9}, 'EL': {'coursenum': 5}, 'CBIO': {'coursenum': 22}, 'AMST/ENG': {'coursenum': 22}, 'RECS/THA': {'coursenum': 14}, 'UWS': {'coursenum': 9}, 'COMP': {'coursenum': 11}, 'MERS': {'coursenum': 0}, 'AAS/AAPI': {'coursenum': 13}, 'AAPI/HIS': {'coursenum': 40}, 'RECS': {'coursenum': 5}, 'AAPI/WGS': {'coursenum': 4}, 'AAAS/HIS': {'coursenum': 28}, 'BISC': {'coursenum': 6}, 'AAPI': {'coursenum': 1}, 'GS': {'coursenum': 0}, 'POL/WGS': {'coursenum': 24}, 'HUM/UWS': {'coursenum': 14}, 'CHSC': {'coursenum': 20}, 'AMST/MUS': {'coursenum': 22}, 'HIST/SOC': {'coursenum': 15}, 'QR': {'coursenum': 30}, 'CLAS/ENG': {'coursenum': 18}, 'ANTH/WGS': {'coursenum': 26}, 'HIST/WGS': {'coursenum': 21}, 'CLAS/NEJ': {'coursenum': 20}, 'ECS/ENG': {'coursenum': 18}, 'RBIF': {'coursenum': 1}, 'RBOT': {'coursenum': 9}, 'RCOM': {'coursenum': 13}, 'RDFT': {'coursenum': 7}, 'RDMD': {'coursenum': 15}, 'RHIN': {'coursenum': 6}, 'RIAS': {'coursenum': 8}, 'RIDT': {'coursenum': 4}, 'RMGT': {'coursenum': 2}, 'RPJM': {'coursenum': 15}, 'RSAN': {'coursenum': 15}, 'RSEG': {'coursenum': 5}, 'RUCD': {'coursenum': 12}, 'GECS': {'coursenum': 10}}\n"
     ]
    }
   ],
   "source": [
    "#Aarthi 5h\n",
    "def topTwenty():\n",
    "    gather = dict()\n",
    "    for course in courses:\n",
    "        dict1 =dict()\n",
    "        if course['subject'] in gather:\n",
    "            if course['coursenum'] in gather[course['subject']]:\n",
    "                dict1 = gather[course['subject']]\n",
    "                num = dict1[course['coursenum']]+course['enrolled']\n",
    "                dict1[course['coursenum']] = num\n",
    "                gather[course['subject']] = dict1\n",
    "            else:\n",
    "                dict1[course['coursenum']] = course['enrolled']\n",
    "                gather[course['subject']] = dict1\n",
    "        else:\n",
    "            dict1[course['coursenum']] = course['enrolled']\n",
    "            gather[course['subject']] = dict1\n",
    "    #for subject in gather:\n",
    "    print(gather)\n",
    "topTwenty()"
   ]
  },
  {
   "cell_type": "code",
   "execution_count": 20,
   "metadata": {},
   "outputs": [
    {
     "name": "stdout",
     "output_type": "stream",
     "text": [
      "6.009983361064892\n"
     ]
    }
   ],
   "source": [
    "#Aarthi 5i: Create Your Own Question\n",
    "#What is the mean number of students taking COSI courses last year?\n",
    "\n",
    "import statistics\n",
    "def meanSize():\n",
    "    coursesize =[]\n",
    "    \n",
    "    for course in courses:\n",
    "       coursesize.append(course['enrolled'])\n",
    "       coursesize.sort()\n",
    "    print((statistics.mean(coursesize)))\n",
    "    \n",
    "meanSize()\n"
   ]
  }
 ],
 "metadata": {
  "kernelspec": {
   "display_name": "Python 3 (ipykernel)",
   "language": "python",
   "name": "python3"
  },
  "language_info": {
   "codemirror_mode": {
    "name": "ipython",
    "version": 3
   },
   "file_extension": ".py",
   "mimetype": "text/x-python",
   "name": "python",
   "nbconvert_exporter": "python",
   "pygments_lexer": "ipython3",
   "version": "3.7.4"
  }
 },
 "nbformat": 4,
 "nbformat_minor": 4
}
